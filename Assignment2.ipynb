{
  "cells": [
    {
      "cell_type": "code",
      "execution_count": null,
      "metadata": {
        "colab": {
          "base_uri": "https://localhost:8080/"
        },
        "id": "mBky0WRKnLDP",
        "outputId": "91d2cacc-0252-4c57-d8ac-7991b510f303"
      },
      "outputs": [],
      "source": [
        "!pip install datasets\n",
        "!pip install accelerate -U\n",
        "!pip install transformers"
      ]
    },
    {
      "cell_type": "code",
      "execution_count": null,
      "metadata": {
        "id": "GLQEVUNkmupt"
      },
      "outputs": [],
      "source": [
        "import pandas as pd\n",
        "import numpy as np\n",
        "from sklearn.dummy import DummyClassifier\n",
        "from sklearn.metrics import f1_score, roc_auc_score, accuracy_score\n",
        "from datasets import Dataset\n",
        "import torch\n",
        "from transformers import (\n",
        "    AutoModelForSequenceClassification,\n",
        "    AutoTokenizer,\n",
        "    DataCollatorWithPadding,\n",
        "    TrainingArguments,\n",
        "    Trainer,\n",
        ")"
      ]
    },
    {
      "cell_type": "code",
      "execution_count": null,
      "metadata": {
        "colab": {
          "base_uri": "https://localhost:8080/"
        },
        "id": "LITvRFBXmupv",
        "outputId": "cff69f61-c66f-4d7a-cc06-e23523683400"
      },
      "outputs": [],
      "source": [
        "device = torch.device(\"cuda\" if torch.cuda.is_available() else \"cpu\")\n",
        "print(\"Device: %s\" % device)"
      ]
    },
    {
      "cell_type": "markdown",
      "metadata": {
        "id": "2XD5WRYKmupv"
      },
      "source": [
        "## TASK 1: Corpus\n"
      ]
    },
    {
      "cell_type": "code",
      "execution_count": null,
      "metadata": {
        "id": "R3HAVDQ9mupw"
      },
      "outputs": [],
      "source": [
        "### Argument urls\n",
        "argument_urls = {\n",
        "    \"train\": \"https://zenodo.org/records/8248658/files/arguments-training.tsv?download=1\",\n",
        "    \"validation\": \"https://zenodo.org/records/8248658/files/arguments-validation.tsv?download=1\",\n",
        "    \"test\": \"https://zenodo.org/records/8248658/files/arguments-test.tsv?download=1\",\n",
        "}\n",
        "# arguments_training_url = (\n",
        "#     \"https://zenodo.org/records/8248658/files/arguments-training.tsv?download=1\"\n",
        "# )\n",
        "# arguments_validation_url = (\n",
        "#     \"https://zenodo.org/records/8248658/files/arguments-validation.tsv?download=1\"\n",
        "# )\n",
        "# arguments_test_url = (\n",
        "#     \"https://zenodo.org/records/8248658/files/arguments-test.tsv?download=1\"\n",
        "# )\n",
        "\n",
        "### Human values urls\n",
        "level2_values_urls = {\n",
        "    \"train\": \"https://zenodo.org/records/8248658/files/labels-training.tsv?download=1\",\n",
        "    \"validation\": \"https://zenodo.org/records/8248658/files/labels-validation.tsv?download=1\",\n",
        "    \"test\": \"https://zenodo.org/records/8248658/files/labels-test.tsv?download=1\",\n",
        "}\n",
        "### Check that the splits in the dict keys were not misspelled\n",
        "for split in level2_values_urls.keys():\n",
        "    assert split in argument_urls.keys(), \"url dictionary keys misspelled\"\n",
        "\n",
        "\n",
        "# labels_training_url = (\n",
        "#     \"https://zenodo.org/records/8248658/files/labels-training.tsv?download=1\"\n",
        "# )\n",
        "# labels_validation_url = (\n",
        "#     \"https://zenodo.org/records/8248658/files/labels-validation.tsv?download=1\"\n",
        "# )\n",
        "# labels_test_url = \"https://zenodo.org/records/8248658/files/labels-test.tsv?download=1\"\n",
        "\n",
        "# TODO REMOVE\n",
        "corpus_urls = {}\n",
        "corpus_urls.update(argument_urls)\n",
        "corpus_urls.update(level2_values_urls)"
      ]
    },
    {
      "cell_type": "code",
      "execution_count": null,
      "metadata": {
        "id": "wtSpCbncmupw"
      },
      "outputs": [],
      "source": [
        "### Download arguments (split = train/validation/test)\n",
        "argument_dfs = {\n",
        "    args_split: pd.read_csv(url, sep=\"\\t\") for args_split, url in argument_urls.items()\n",
        "}\n",
        "\n",
        "### Download human values (split = train/validation/test)\n",
        "level2_values_dfs = {\n",
        "    values_split: pd.read_csv(url, sep=\"\\t\")\n",
        "    for values_split, url in level2_values_urls.items()\n",
        "}\n",
        "\n",
        "# TODO we should save the data locally and load it from there if available"
      ]
    },
    {
      "cell_type": "code",
      "execution_count": null,
      "metadata": {},
      "outputs": [],
      "source": [
        "### Merge arguments and (labels) level 2 values (split = train/validation/test)\n",
        "# TODO find a better name for args_level2vals_dfs\n",
        "args_level2vals_dfs = {\n",
        "    split: pd.merge(argument, level2_values_dfs[split], on=\"Argument ID\")\n",
        "    for split, argument in argument_dfs.items()\n",
        "}\n",
        "\n",
        "### more clear??\n",
        "# args_level2vals_dfs = {}\n",
        "# for split in argument_dfs.keys():  # & values_dfs.keys():  ### intersection between keys\n",
        "#     args_level2vals_dfs[split] = pd.merge(\n",
        "#         argument_dfs[split], level2_values_dfs[split], on=\"Argument ID\"\n",
        "#     )\n",
        "\n",
        "\n",
        "###\n",
        "\n",
        "\n",
        "# ### Creating Training dataframe\n",
        "# arguments_tr_df = pd.read_csv(arguments_training_url, sep=\"\\t\")\n",
        "# labels_tr_df = pd.read_csv(labels_training_url, sep=\"\\t\")\n",
        "# ### Merging arguments and labels\n",
        "# train_df_nm = pd.merge(arguments_tr_df, labels_tr_df, on=\"Argument ID\")\n",
        "# ### Creating Validation dataframe\n",
        "# arguments_va_df = pd.read_csv(arguments_validation_url, sep=\"\\t\")\n",
        "# labels_va_df = pd.read_csv(labels_validation_url, sep=\"\\t\")\n",
        "# ### Merging arguments and labels\n",
        "# validation_df_nm = pd.merge(arguments_va_df, labels_va_df, on=\"Argument ID\")\n",
        "# ### Creating Test dataframe\n",
        "# arguments_te_df = pd.read_csv(arguments_test_url, sep=\"\\t\")\n",
        "# labels_te_df = pd.read_csv(labels_test_url, sep=\"\\t\")\n",
        "# ### Merging arguments and labels\n",
        "# test_df_nm = pd.merge(arguments_te_df, labels_te_df, on=\"Argument ID\")\n",
        "\n",
        "### Notation\n",
        "### nm=not merged with logical OR"
      ]
    },
    {
      "cell_type": "code",
      "execution_count": null,
      "metadata": {},
      "outputs": [],
      "source": [
        "print([d.shape for d in level2_values_dfs.values()])\n",
        "level2_values_dfs[\"train\"].head(2)"
      ]
    },
    {
      "cell_type": "code",
      "execution_count": null,
      "metadata": {},
      "outputs": [],
      "source": [
        "print([d.shape for d in argument_dfs.values()])\n",
        "argument_dfs[\"train\"].head(2)"
      ]
    },
    {
      "cell_type": "code",
      "execution_count": null,
      "metadata": {
        "colab": {
          "base_uri": "https://localhost:8080/",
          "height": 355
        },
        "id": "8FJvn74Bmupw",
        "outputId": "f4f10be9-6618-4ed0-fff2-a6aff86f11af"
      },
      "outputs": [],
      "source": [
        "# dfs_args_level2vals[\"train\"].describe()"
      ]
    },
    {
      "cell_type": "code",
      "execution_count": null,
      "metadata": {
        "colab": {
          "base_uri": "https://localhost:8080/",
          "height": 672
        },
        "id": "0z1YWKtAmupw",
        "outputId": "7b119adb-baea-494f-d5de-52d79f134df6"
      },
      "outputs": [],
      "source": [
        "print([d.shape for d in args_level2vals_dfs.values()])\n",
        "args_level2vals_dfs[\"train\"].head(2)"
      ]
    },
    {
      "cell_type": "code",
      "execution_count": null,
      "metadata": {},
      "outputs": [],
      "source": [
        "# TODO REMOVE\n",
        "# ### if we want to merge the 3 df into 1 we do this\n",
        "# for split, df in args_level2vals_dfs.items():\n",
        "#     df[\"split\"] = split\n",
        "# #\n",
        "# big_df = pd.concat(args_level2vals_dfs.values(), axis=\"rows\")\n",
        "# print(big_df.shape)"
      ]
    },
    {
      "cell_type": "code",
      "execution_count": null,
      "metadata": {},
      "outputs": [],
      "source": [
        "### Considering category ranges (0,3),(3,7),(7,13),(13,19)\n",
        "### adding +4, considering the first 4 columns which are not categories\n",
        "level3_categories_ranges = {\n",
        "    \"Openness_to_change\": (4, 7),\n",
        "    \"Self_enhancement\": (7, 11),\n",
        "    \"Conversation\": (11, 17),\n",
        "    \"Self_transcendence\": (17, 23),\n",
        "}\n",
        "columns_to_keep = [\"Argument ID\", \"Conclusion\", \"Stance\", \"Premise\"]\n",
        "### This will be useful later\n",
        "level_3_cat = list(level3_categories_ranges.keys())"
      ]
    },
    {
      "cell_type": "code",
      "execution_count": null,
      "metadata": {},
      "outputs": [],
      "source": [
        "{split: pd.DataFrame() for split in args_level2vals_dfs.keys()}"
      ]
    },
    {
      "cell_type": "code",
      "execution_count": null,
      "metadata": {},
      "outputs": [],
      "source": [
        "### Creating final dataframes VERSION 1 #TODO clear?\n",
        "\n",
        "### make empty dfs\n",
        "new_df = {split: pd.DataFrame() for split in args_level2vals_dfs.keys()}\n",
        "\n",
        "for split, merged_cats in new_df.items():\n",
        "    ### for split (train/val/test) make a df for the categories\n",
        "    for cat, (start, end) in level3_categories_ranges.items():\n",
        "        ### get the mapping category -> dataset\n",
        "        merged_cats[cat] = args_level2vals_dfs[split].iloc[:, start:end].any(axis=1)\n",
        "        ### merge that split of dataset for that category\n",
        "\n",
        "# for cat, (start, end) in level3_categories_ranges.items():\n",
        "#     ### get the mapping category -> dataset\n",
        "#     for split, merged_cats in new_df.items():\n",
        "#         ### for each category column (train/val/test)\n",
        "#         merged_cats[cat] = args_level2vals_dfs[split].iloc[:, start:end].any(axis=1)\n",
        "#         ### merge that split of dataset for that category\n",
        "\n",
        "final_dfs = {\n",
        "    split: pd.concat([df[columns_to_keep], new_df[split]], axis=1)\n",
        "    for split, df in args_level2vals_dfs.items()\n",
        "}"
      ]
    },
    {
      "cell_type": "code",
      "execution_count": null,
      "metadata": {},
      "outputs": [],
      "source": [
        "### Creating final dataframes VERSION 2\n",
        "\n",
        "train, validation, test = args_level2vals_dfs.keys()\n",
        "assert train == \"train\" and validation == \"validation\" and test == \"test\"\n",
        "\n",
        "train_df_nm = args_level2vals_dfs[\"train\"]\n",
        "validation_df_nm = args_level2vals_dfs[\"validation\"]\n",
        "test_df_nm = args_level2vals_dfs[\"test\"]\n",
        "\n",
        "### Creating final dataframes\n",
        "train_df = pd.DataFrame()\n",
        "validation_df = pd.DataFrame()\n",
        "test_df = pd.DataFrame()\n",
        "\n",
        "for cat, (start, end) in level3_categories_ranges.items():\n",
        "    train_df[cat] = train_df_nm.iloc[:, start:end].any(axis=1)\n",
        "    validation_df[cat] = validation_df_nm.iloc[:, start:end].any(axis=1)\n",
        "    test_df[cat] = test_df_nm.iloc[:, start:end].any(axis=1)\n",
        "\n",
        "train_df = pd.concat([train_df_nm[columns_to_keep], train_df], axis=1)\n",
        "validation_df = pd.concat([validation_df_nm[columns_to_keep], validation_df], axis=1)\n",
        "test_df = pd.concat([test_df_nm[columns_to_keep], test_df], axis=1)\n",
        "\n",
        "###"
      ]
    },
    {
      "cell_type": "code",
      "execution_count": null,
      "metadata": {},
      "outputs": [],
      "source": [
        "final_dfs[\"train\"].head(2)  ### VERSION 1"
      ]
    },
    {
      "cell_type": "code",
      "execution_count": null,
      "metadata": {},
      "outputs": [],
      "source": [
        "train_df.head(2)  ### VERSION 2"
      ]
    },
    {
      "cell_type": "code",
      "execution_count": null,
      "metadata": {},
      "outputs": [],
      "source": [
        "final_dfs[\"test\"].head(2)  ### VERSION 1"
      ]
    },
    {
      "cell_type": "code",
      "execution_count": null,
      "metadata": {},
      "outputs": [],
      "source": [
        "test_df.head(2)  ### VERSION 2"
      ]
    },
    {
      "cell_type": "code",
      "execution_count": null,
      "metadata": {
        "id": "84yzGnd8mupw"
      },
      "outputs": [],
      "source": [
        "# ### Considering category ranges (0,3),(3,7),(7,13),(13,19)\n",
        "# ### adding +4, considering the first 4 columns which are not categories\n",
        "# column_ranges = [(4, 7), (7, 11), (11, 17), (17, 23)]\n",
        "# level_3_cat = [\n",
        "#     \"Openness_to_change\",\n",
        "#     \"Self_enhancement\",\n",
        "#     \"Conversation\",\n",
        "#     \"Self_transcendence\",\n",
        "# ]\n",
        "# columns_to_keep = [\"Argument ID\", \"Conclusion\", \"Stance\", \"Premise\"]\n",
        "#\n",
        "# ### Creating final dataframes\n",
        "# train_df = pd.DataFrame()\n",
        "# validation_df = pd.DataFrame()\n",
        "# test_df = pd.DataFrame()\n",
        "#\n",
        "# ### Applying OR to the selected columns using .any(axis=1)\n",
        "# for (start, end), cat in zip(column_ranges, level_3_cat):\n",
        "#     train_df[cat] = train_df_nm.iloc[:, start:end].any(axis=1)\n",
        "#     validation_df[cat] = validation_df_nm.iloc[:, start:end].any(axis=1)\n",
        "#     test_df[cat] = test_df_nm.iloc[:, start:end].any(axis=1)\n",
        "#\n",
        "# ### Reading the columns to keep\n",
        "# train_df = pd.concat([train_df_nm[columns_to_keep], train_df], axis=1)\n",
        "# validation_df = pd.concat([validation_df_nm[columns_to_keep], validation_df], axis=1)\n",
        "# test_df = pd.concat([test_df_nm[columns_to_keep], test_df], axis=1)"
      ]
    },
    {
      "cell_type": "code",
      "execution_count": null,
      "metadata": {
        "colab": {
          "base_uri": "https://localhost:8080/",
          "height": 466
        },
        "id": "l3azMZUrmupw",
        "outputId": "be0d8ea8-ff51-4b8c-cecf-02ff35ab4382"
      },
      "outputs": [],
      "source": [
        "train_df.head()"
      ]
    },
    {
      "cell_type": "code",
      "execution_count": null,
      "metadata": {
        "colab": {
          "base_uri": "https://localhost:8080/",
          "height": 261
        },
        "id": "9uNo8OnUmupx",
        "outputId": "b9791120-a38b-48f8-ea97-ab6af6dba2bd"
      },
      "outputs": [],
      "source": [
        "test_df.describe()"
      ]
    },
    {
      "cell_type": "code",
      "execution_count": null,
      "metadata": {
        "colab": {
          "base_uri": "https://localhost:8080/",
          "height": 501
        },
        "id": "S2DBwMpKmupx",
        "outputId": "50c5cd37-0992-4634-bbc9-ca786063852a"
      },
      "outputs": [],
      "source": [
        "validation_df.head()"
      ]
    },
    {
      "cell_type": "code",
      "execution_count": null,
      "metadata": {
        "colab": {
          "base_uri": "https://localhost:8080/"
        },
        "id": "pDsMk38dmupx",
        "outputId": "825b62f6-1eef-4dde-9add-9b3923fa8467"
      },
      "outputs": [],
      "source": [
        "test_df[\"Openness_to_change\"]"
      ]
    },
    {
      "cell_type": "code",
      "execution_count": null,
      "metadata": {
        "id": "HdLiPuRwmupx"
      },
      "outputs": [],
      "source": [
        "### Define a mapping for \"Stance\" column\n",
        "stance_mapping = {\"in favor of\": True, \"against\": False}\n",
        "\n",
        "### Apply the mapping to convert strings to boolean values\n",
        "train_df[\"Stance\"] = train_df[\"Stance\"].map(stance_mapping)\n",
        "validation_df[\"Stance\"] = validation_df[\"Stance\"].map(stance_mapping)\n",
        "test_df[\"Stance\"] = test_df[\"Stance\"].map(stance_mapping)"
      ]
    },
    {
      "cell_type": "code",
      "execution_count": null,
      "metadata": {
        "colab": {
          "base_uri": "https://localhost:8080/",
          "height": 466
        },
        "id": "EE7Q5I_smupx",
        "outputId": "af9d5f5b-e997-4da0-9884-eb0eedc41b80"
      },
      "outputs": [],
      "source": [
        "train_df.head()"
      ]
    },
    {
      "cell_type": "code",
      "execution_count": null,
      "metadata": {
        "id": "_dP07WHhmupy"
      },
      "outputs": [],
      "source": [
        "np.random.seed(12345678)"
      ]
    },
    {
      "cell_type": "markdown",
      "metadata": {
        "id": "WdC_EHS0mupx"
      },
      "source": [
        "## TASK 2: Model definition"
      ]
    },
    {
      "cell_type": "markdown",
      "metadata": {
        "id": "0xtHCuBamupx"
      },
      "source": [
        "### Uniform Baseline Model "
      ]
    },
    {
      "cell_type": "code",
      "execution_count": null,
      "metadata": {},
      "outputs": [],
      "source": [
        "def baseline_model(\n",
        "    strategy, level_3_cat, train_df, columns_to_keep\n",
        "):  # Da rivere i parametri una volta definito un dizionario per tutte le variabili(?)\n",
        "    clf_list = [DummyClassifier(strategy=strategy) for _ in level_3_cat]\n",
        "    [\n",
        "        clf.fit(X=train_df[columns_to_keep[1:]], y=train_df[cat])\n",
        "        for clf, cat in zip(clf_list, level_3_cat)\n",
        "    ]\n",
        "    prediction = np.array(\n",
        "        [clf.predict(X=test_df[columns_to_keep[1:]]) for clf in clf_list]\n",
        "    ).T\n",
        "    return prediction"
      ]
    },
    {
      "cell_type": "code",
      "execution_count": null,
      "metadata": {},
      "outputs": [],
      "source": [
        "def f1_baseline(prediction):\n",
        "    ### Evaluate F1 overall\n",
        "    f1_overall = f1_score(\n",
        "        y_true=test_df[level_3_cat], y_pred=prediction average=\"macro\"\n",
        "    )\n",
        "\n",
        "    ### Evaluate F1 per category\n",
        "    f1_per_cat = [\n",
        "        f1_score(y_true=test_df[cat], y_pred=prediction[:, i])\n",
        "        for i, cat in enumerate(level_3_cat)\n",
        "    ]\n",
        "\n",
        "    return f1_overall, f1_per_cat"
      ]
    },
    {
      "cell_type": "code",
      "execution_count": null,
      "metadata": {
        "id": "zs7H6Sx_mupy"
      },
      "outputs": [],
      "source": [
        "## Da rimuovere e invocare funzione con parametro \"strategy\"\n",
        "clf_list = [DummyClassifier(strategy=\"uniform\") for _ in level_3_cat]\n",
        "[\n",
        "    clf.fit(X=train_df[columns_to_keep[1:]], y=train_df[cat])\n",
        "    for clf, cat in zip(uniform_clf_list, level_3_cat)\n",
        "]\n",
        "\n",
        "\n",
        "prediction_uniform = np.array(\n",
        "    [clf.predict(X=test_df[columns_to_keep[1:]]) for clf in uniform_clf_list]\n",
        ").T"
      ]
    },
    {
      "cell_type": "markdown",
      "metadata": {
        "id": "IHUABy59mupy"
      },
      "source": [
        "### F1 score for Uniform Baseline"
      ]
    },
    {
      "cell_type": "code",
      "execution_count": null,
      "metadata": {},
      "outputs": [],
      "source": [
        "prediction_uniform = baseline_model(\"uniform\", level_3_cat, train_df, columns_to_keep)\n",
        "f1_overall, f1_percat = f1_baseline(prediction_uniform)"
      ]
    },
    {
      "cell_type": "code",
      "execution_count": null,
      "metadata": {
        "colab": {
          "base_uri": "https://localhost:8080/"
        },
        "id": "Aw8UsAL7mupy",
        "outputId": "2b47b9bb-cdb7-421f-ecbd-e05c0b2db24c"
      },
      "outputs": [],
      "source": [
        "## Da rimuovere tutto\n",
        "\n",
        "\n",
        "### Evaluate F1 overall\n",
        "\n",
        "\n",
        "f1_overall = f1_score(\n",
        "    y_true=test_df[level_3_cat], y_pred=prediction_uniform, average=\"weighted\"\n",
        ")\n",
        "\n",
        "\n",
        "print(f\"Random Classifier F1 overall weighted : {f1_overall:.4f}\")\n",
        "\n",
        "\n",
        "### Evaluate F1 overall\n",
        "\n",
        "\n",
        "f1_overall = f1_score(\n",
        "    y_true=test_df[level_3_cat], y_pred=prediction_uniform, average=\"macro\"\n",
        ")\n",
        "\n",
        "\n",
        "print(f\"Random Classifier F1 overall macro: {f1_overall:.4f}\")\n",
        "\n",
        "\n",
        "### Evaluate F1 per category\n",
        "\n",
        "\n",
        "f1_per_cat = [\n",
        "    f1_score(y_true=test_df[cat], y_pred=prediction_uniform[:, i])\n",
        "    for i, cat in enumerate(level_3_cat)\n",
        "]\n",
        "\n",
        "\n",
        "print(f\"Random Classifier F1 per category: {f1_per_cat}\")"
      ]
    },
    {
      "cell_type": "markdown",
      "metadata": {
        "id": "9jDOCBYqmupy"
      },
      "source": [
        "### Majority Baseline"
      ]
    },
    {
      "cell_type": "code",
      "execution_count": null,
      "metadata": {
        "id": "wwkhyTUBmupy"
      },
      "outputs": [],
      "source": [
        "## Da rimuovere\n",
        "clf_list = [DummyClassifier(strategy=\"most_frequent\") for _ in level_3_cat]\n",
        "[\n",
        "    clf.fit(X=train_df[columns_to_keep[1:]], y=train_df[cat])\n",
        "    for clf, cat in zip(majoirty_clf_list, level_3_cat)\n",
        "]\n",
        "\n",
        "\n",
        "prediction_majority = np.array(\n",
        "    [clf.predict(X=test_df[columns_to_keep[1:]]) for clf in majoirty_clf_list]\n",
        ").T"
      ]
    },
    {
      "cell_type": "code",
      "execution_count": null,
      "metadata": {},
      "outputs": [],
      "source": [
        "prediction_majority = baseline_model(\n",
        "    \"most_frequent\", level_3_cat, train_df, columns_to_keep\n",
        ")\n",
        "f1_overall, f1_percat = f1_baseline(prediction_uniform)"
      ]
    },
    {
      "cell_type": "markdown",
      "metadata": {
        "id": "zPyZynQymupy"
      },
      "source": [
        "### F1 score for Majority Baseline"
      ]
    },
    {
      "cell_type": "code",
      "execution_count": null,
      "metadata": {
        "colab": {
          "base_uri": "https://localhost:8080/"
        },
        "id": "aCVw2Nwnmupy",
        "outputId": "a15aef45-a982-4129-b991-4f41cf92e427"
      },
      "outputs": [],
      "source": [
        "# Da rimuovere e invocare funzione su print\n",
        "\n",
        "\n",
        "### Evaluate over all F1\n",
        "\n",
        "\n",
        "f1_overall = f1_score(\n",
        "    y_true=test_df[level_3_cat], y_pred=prediction_majority, average=\"weighted\"\n",
        ")\n",
        "\n",
        "\n",
        "print(f\"Majority Classifier F1 weighted : {f1_overall:.4f}\")\n",
        "\n",
        "\n",
        "### Evaluate over all F1\n",
        "\n",
        "\n",
        "f1_overall = f1_score(\n",
        "    y_true=test_df[level_3_cat], y_pred=prediction_majority, average=\"macro\"\n",
        ")\n",
        "\n",
        "\n",
        "print(f\"Majority Classifier F1 macro: {f1_overall:.4f}\")\n",
        "\n",
        "\n",
        "### Evaluate F1 per category\n",
        "\n",
        "\n",
        "f1_per_cat = [\n",
        "    f1_score(y_true=test_df[cat], y_pred=prediction_majority[:, i])\n",
        "    for i, cat in enumerate(level_3_cat)\n",
        "]\n",
        "\n",
        "\n",
        "print(f\"Majority Classifier F1 per category: {f1_per_cat}\")"
      ]
    },
    {
      "cell_type": "markdown",
      "metadata": {
        "id": "I3dtkYMRmupy"
      },
      "source": [
        "### BERT Classifier"
      ]
    },
    {
      "cell_type": "code",
      "execution_count": null,
      "metadata": {
        "id": "A1Y_4AZ2mupy"
      },
      "outputs": [],
      "source": [
        "## Io qui farei una lista di dataset in modo da non doverla rifare alla cella 49 passadongli direttamente la lista come parametro\n",
        "\n",
        "### Convert dataframes into datasets\n",
        "\n",
        "\n",
        "train_dataset = Dataset.from_pandas(train_df)\n",
        "\n",
        "\n",
        "validation_dataset = Dataset.from_pandas(validation_df)\n",
        "\n",
        "\n",
        "test_dataset = Dataset.from_pandas(test_df)"
      ]
    },
    {
      "cell_type": "code",
      "execution_count": null,
      "metadata": {
        "id": "eNixQBpqmupy"
      },
      "outputs": [],
      "source": [
        "id2label = {idx: label for idx, label in enumerate(level_3_cat)}\n",
        "label2id = {label: idx for idx, label in enumerate(level_3_cat)}"
      ]
    },
    {
      "cell_type": "code",
      "execution_count": null,
      "metadata": {},
      "outputs": [],
      "source": [
        "def generate_mode(model_card):\n",
        "    # Da inserire?\n",
        "    # id2label = {idx: label for idx, label in enumerate(level_3_cat)}\n",
        "    # label2id = {label: idx for idx, label in enumerate(level_3_cat)}\n",
        "\n",
        "    model = AutoModelForSequenceClassification.from_pretrained(\n",
        "        model_card,\n",
        "        problem_type=\"multi_label_classification\",\n",
        "        num_labels=len(level_3_cat),\n",
        "        id2label=id2label,\n",
        "        label2id=label2id,\n",
        "    )\n",
        "    tokenizer = AutoTokenizer.from_pretrained(model_card)\n",
        "\n",
        "    ### Collator da inserire?\n",
        "    # data_collator = DataCollatorWithPadding(tokenizer=tokenizer)\n",
        "\n",
        "    return (\n",
        "        model,\n",
        "        tokenizer,\n",
        "    )  # data_collator"
      ]
    },
    {
      "cell_type": "code",
      "execution_count": null,
      "metadata": {
        "colab": {
          "base_uri": "https://localhost:8080/"
        },
        "id": "x9f9_BmBmupz",
        "outputId": "1c1f0c5c-7665-4b32-9ace-5d265e7b104c"
      },
      "outputs": [],
      "source": [
        "model_card = \"bert-base-uncased\"  # Da inserire in dizionario\n",
        "\n",
        "### Da rimuovere tutto\n",
        "\n",
        "\n",
        "tokenizer = AutoTokenizer.from_pretrained(model_card)\n",
        "\n",
        "\n",
        "model = AutoModelForSequenceClassification.from_pretrained(\n",
        "    model_card,\n",
        "    problem_type=\"multi_label_classification\",\n",
        "    num_labels=len(level_3_cat),\n",
        "    id2label=id2label,\n",
        "    label2id=label2id,\n",
        ")"
      ]
    },
    {
      "cell_type": "markdown",
      "metadata": {
        "id": "_gYGvjafmupz"
      },
      "source": [
        "### Conclusion Only Model"
      ]
    },
    {
      "cell_type": "code",
      "execution_count": null,
      "metadata": {},
      "outputs": [],
      "source": [
        "def add_labels(example, level_3_cat):\n",
        "    labels_batch = {k: example[k] for k in example.keys() if k in level_3_cat}\n",
        "    labels_matrix = np.zeros((len(example[\"Conclusion\"]), len(level_3_cat)))\n",
        "    for i, label in enumerate(level_3_cat):\n",
        "        labels_matrix[:, i] = labels_batch[label]\n",
        "    return labels_matrix.tolist()"
      ]
    },
    {
      "cell_type": "code",
      "execution_count": null,
      "metadata": {
        "id": "8uFOBtbHmupz"
      },
      "outputs": [],
      "source": [
        "### Encoding for Conclusion only model\n",
        "def tokenize_conclusion(example):\n",
        "    ### Tokenize text columns\n",
        "    text_tokens = tokenizer(\n",
        "        example[\"Conclusion\"],\n",
        "        truncation=True,\n",
        "        padding=\"max_length\",\n",
        "        max_length=tokenizer.model_max_length,\n",
        "        return_tensors=\"pt\",\n",
        "    )\n",
        "\n",
        "    ### Combine text tokens with non-text features\n",
        "    encoded_example = {\n",
        "        \"input_ids\": text_tokens[\"input_ids\"],\n",
        "        \"token_type_ids\": text_tokens[\"token_type_ids\"],\n",
        "        \"attention_mask\": text_tokens[\"attention_mask\"],\n",
        "        \"Openness_to_change\": torch.tensor(\n",
        "            example[\"Openness_to_change\"], dtype=torch.float\n",
        "        ),\n",
        "        \"Self_enhancement\": torch.tensor(\n",
        "            example[\"Self_enhancement\"], dtype=torch.float\n",
        "        ),\n",
        "        \"Conversation\": torch.tensor(example[\"Conversation\"], dtype=torch.float),\n",
        "        \"Self_transcendence\": torch.tensor(\n",
        "            example[\"Self_transcendence\"], dtype=torch.float\n",
        "        ),\n",
        "    }\n",
        "\n",
        "    encoded_example[\"labels\"] = add_labels(example, level_3_cat)\n",
        "\n",
        "    # print(encoded_example)\n",
        "    return encoded_example"
      ]
    },
    {
      "cell_type": "code",
      "execution_count": null,
      "metadata": {},
      "outputs": [],
      "source": [
        "def tokenize_datasets(train_dataset, validation_dataset, test_dataset):\n",
        "    ### Tokenize train, validation, test datasets\n",
        "    ds_list = [\n",
        "        d.map(tokenize_conclusion, batched=True)\n",
        "        for d in (train_dataset, validation_dataset, test_dataset)\n",
        "    ]\n",
        "    ### Set format for all datasets\n",
        "    for d in ds_list:\n",
        "        d.set_format(type=\"torch\")\n",
        "    train_tokenized_ds, valid_tokenized_ds, test_tokenized_ds = ds_list\n",
        "\n",
        "    return train_tokenized_ds, valid_tokenized_ds, test_tokenized_ds"
      ]
    },
    {
      "cell_type": "code",
      "execution_count": null,
      "metadata": {
        "colab": {
          "base_uri": "https://localhost:8080/",
          "height": 113,
          "referenced_widgets": [
            "8cbab753167d4047ba4fc5dfc95b2353",
            "cdc97074946146e294d4d619a0b7352c",
            "a46a803e88ad45cd805a49f7237308de",
            "70c0b981a52e42e59a521fb85a76b4d7",
            "7aa1fcba973842f6859da2f8419eab43",
            "b133756d8e4f46d38887045b5cfba5c0",
            "b75ffbac3f5d4be5984ea703aa968e72",
            "acb69cfe6e2a47959ff0776b2076c895",
            "e8143cedd47c46668ed357ea649c0d86",
            "12f654722d7a4fb58aeb6708804f395b",
            "1bfca35940c84cd8a5960a9798f671a3",
            "8f64d1a17e2b4957a569223a0f0c7d9a",
            "918fe5a17f21473892efa27cb82f8db0",
            "0ab65e931fc34d32b11f63fe7e1f714c",
            "74b825ae6cc245ccb7dfdc034c9a9328",
            "13cf588e03b64d8eb324a43f021a1ae5",
            "4580833ee80946a68377a1cc07e5b797",
            "57e4a26416b343679796c140fc71c361",
            "4b1ccc97d84c482fa72299cb943014df",
            "eae2be801df3480681858b3055dfa247",
            "5780da4302284cc980d74be84cabdca9",
            "97fe8a180f4146d0bbf1b089e3c540cc",
            "82705c28e0ef47bbba0670ccfd68f6a3",
            "13d6f258286b4008b34539ca1fad1a72",
            "823142c7e21c42c4b3ff8052bba83a23",
            "4d635dd96b9d4459a17bcdb460511d5b",
            "4b4d1dcda6764b83870c13547e4ab3a6",
            "184e62e2f0ec429587b42a7cb9cc5652",
            "56cee1daec7e4e6f8a1b39f2b7c5d30f",
            "f1c7a82c15ea403d8ccc8d5d3ebdcabe",
            "e221cfec56984028b99ec5b6cead7dd2",
            "b4333dbca9244ec098af1eae585c18a4",
            "7f104aee57264b99baa59b7467c94104"
          ]
        },
        "id": "Yh--DQ3Mmupz",
        "outputId": "edbc6fd0-c632-4f40-f891-0933b56e5324"
      },
      "outputs": [],
      "source": [
        "### Da rimuovere tutto inserito nella funzione sopra ^\n",
        "\n",
        "### Tokenize train, validation, test datasets\n",
        "\n",
        "\n",
        "ds_list = [\n",
        "    d.map(tokenize_conclusion, batched=True)\n",
        "    for d in (train_dataset, validation_dataset, test_dataset)\n",
        "]\n",
        "\n",
        "\n",
        "### Set format for train, validation, test tokenized datasets\n",
        "\n",
        "\n",
        "columns = [\n",
        "    \"input_ids\",\n",
        "    \"token_type_ids\",\n",
        "    \"attention_mask\",\n",
        "    \"Openness_to_change\",\n",
        "    \"Self_enhancement\",\n",
        "    \"Conversation\",\n",
        "    \"Self_transcendence\",\n",
        "]\n",
        "\n",
        "\n",
        "for d in ds_list:\n",
        "    d.set_format(type=\"torch\")\n",
        "\n",
        "\n",
        "train_tokenized_ds, valid_tokenized_ds, test_tokenized_ds = ds_list\n",
        "\n",
        "\n",
        "# ### Tokenize training data\n",
        "\n",
        "\n",
        "# test_tokenized_dataset = test_dataset.map(tokenize_conclusion, batched=True)\n",
        "\n",
        "\n",
        "# test_tokenized_dataset.set_format(\n",
        "\n",
        "\n",
        "#     \"tensorflow\",\n",
        "\n",
        "\n",
        "#     columns=[\n",
        "\n",
        "\n",
        "#         \"input_ids\",\n",
        "\n",
        "\n",
        "#         \"token_type_ids\",\n",
        "#         \"attention_mask\",\n",
        "\n",
        "\n",
        "#         \"Openness_to_change\",\n",
        "\n",
        "\n",
        "#         \"Self_enhancement\",\n",
        "\n",
        "\n",
        "#         \"Conversation\",\n",
        "\n",
        "\n",
        "#         \"Self_transcendence\",\n",
        "\n",
        "\n",
        "#     ],\n",
        "\n",
        "\n",
        "# )"
      ]
    },
    {
      "cell_type": "code",
      "execution_count": null,
      "metadata": {
        "colab": {
          "base_uri": "https://localhost:8080/"
        },
        "id": "7fDTBVqQmupz",
        "outputId": "4d1679a2-664c-4228-9646-b4b1f5d5577b"
      },
      "outputs": [],
      "source": [
        "### Sanity check\n",
        "print(train_tokenized_ds[\"Conclusion\"][50])\n",
        "decoded_text = tokenizer.decode(train_tokenized_ds[\"input_ids\"][50])\n",
        "print(decoded_text)"
      ]
    },
    {
      "cell_type": "code",
      "execution_count": null,
      "metadata": {
        "id": "VMtUYhR1mupz"
      },
      "outputs": [],
      "source": [
        "### Collator\n",
        "data_collator = DataCollatorWithPadding(tokenizer=tokenizer)"
      ]
    },
    {
      "cell_type": "code",
      "execution_count": null,
      "metadata": {
        "colab": {
          "base_uri": "https://localhost:8080/"
        },
        "id": "2HsxmuFQmupz",
        "outputId": "73357efe-a138-49aa-d049-346c53397978"
      },
      "outputs": [],
      "source": [
        "model = AutoModelForSequenceClassification.from_pretrained(\n",
        "    model_card, num_labels=len(level_3_cat), id2label=id2label, label2id=label2id\n",
        ")"
      ]
    },
    {
      "cell_type": "code",
      "execution_count": null,
      "metadata": {
        "colab": {
          "base_uri": "https://localhost:8080/"
        },
        "id": "yFYOaqa3mupz",
        "outputId": "c7a6f8db-0ab8-4ca6-f517-c550efef7aa2"
      },
      "outputs": [],
      "source": [
        "print(model)"
      ]
    },
    {
      "cell_type": "markdown",
      "metadata": {
        "id": "a-D3Db5Cmup0"
      },
      "source": [
        "## Metrics"
      ]
    },
    {
      "cell_type": "code",
      "execution_count": null,
      "metadata": {
        "id": "ZPcKYfAlmup0"
      },
      "outputs": [],
      "source": [
        "def multi_label_metrics(predictions, labels, threshold=0.5):\n",
        "    # first, apply sigmoid on predictions which are of shape (batch_size, num_labels)\n",
        "    sigmoid = torch.nn.Sigmoid()\n",
        "    probs = sigmoid(torch.Tensor(predictions))\n",
        "    # next, use threshold to turn them into integer predictions\n",
        "    y_pred = np.zeros(probs.shape)\n",
        "    y_pred[np.where(probs >= threshold)] = 1\n",
        "    # finally, compute metrics\n",
        "    y_true = labels\n",
        "    metrics = {\"f1\": f1_score(y_true=y_true, y_pred=y_pred, average=\"macro\")}\n",
        "    return metrics\n",
        "\n",
        "\n",
        "def compute_metrics(prediction):\n",
        "    preds = (\n",
        "        prediction.predictions[0]\n",
        "        if isinstance(prediction.predictions, tuple)\n",
        "        else prediction.predictions\n",
        "    )\n",
        "    result = multi_label_metrics(predictions=preds, labels=prediction.label_ids)\n",
        "    return result"
      ]
    },
    {
      "cell_type": "markdown",
      "metadata": {
        "id": "kb_hrkWvmup0"
      },
      "source": [
        "### Training Arguments"
      ]
    },
    {
      "cell_type": "code",
      "execution_count": null,
      "metadata": {},
      "outputs": [],
      "source": [
        "# Creare funzione in cui inserire training Arguments e Trainer?"
      ]
    },
    {
      "cell_type": "code",
      "execution_count": null,
      "metadata": {
        "id": "RIlFvDjbmup0"
      },
      "outputs": [],
      "source": [
        "training_args = TrainingArguments(\n",
        "    output_dir=\"Models/BertBaseUncased\",\n",
        "    learning_rate=2e-5,\n",
        "    per_device_train_batch_size=8,\n",
        "    per_device_eval_batch_size=8,\n",
        "    load_best_model_at_end=True,\n",
        "    report_to=\"none\",\n",
        "    save_strategy=\"epoch\",  #'no'\n",
        "    evaluation_strategy=\"epoch\",\n",
        "    num_train_epochs=1,  ### fine tuning\n",
        "    weight_decay=0.01,\n",
        "    metric_for_best_model=\"f1\",\n",
        ")"
      ]
    },
    {
      "cell_type": "code",
      "execution_count": null,
      "metadata": {
        "id": "03FJ-rnUmup0"
      },
      "outputs": [],
      "source": [
        "trainer = Trainer(\n",
        "    model=model,\n",
        "    args=training_args,\n",
        "    train_dataset=train_tokenized_ds,\n",
        "    eval_dataset=valid_tokenized_ds,\n",
        "    tokenizer=tokenizer,\n",
        "    data_collator=data_collator,\n",
        "    compute_metrics=compute_metrics,\n",
        ")"
      ]
    },
    {
      "cell_type": "code",
      "execution_count": null,
      "metadata": {
        "colab": {
          "base_uri": "https://localhost:8080/",
          "height": 200
        },
        "id": "kcfItfLemup0",
        "outputId": "d9f8ecd6-afbb-4f71-c4aa-cd5a5f55848f"
      },
      "outputs": [],
      "source": [
        "trainer.train()"
      ]
    },
    {
      "cell_type": "code",
      "execution_count": null,
      "metadata": {
        "colab": {
          "base_uri": "https://localhost:8080/",
          "height": 165
        },
        "id": "XkodYF05mup0",
        "outputId": "c3dea9ea-e819-4742-e352-47f28997b118"
      },
      "outputs": [],
      "source": [
        "trainer.evaluate()"
      ]
    },
    {
      "cell_type": "markdown",
      "metadata": {
        "id": "jVl10aXpmup1"
      },
      "source": [
        "## Conclusion - Premise Model"
      ]
    },
    {
      "cell_type": "code",
      "execution_count": null,
      "metadata": {
        "id": "YtmfQjs2mup1"
      },
      "outputs": [],
      "source": [
        "### Encoding for Conclusion - Premise model\n",
        "def tokenize_conclusion_premise(example):\n",
        "    ### Tokenize text columns\n",
        "    text_tokens = tokenizer(\n",
        "        example[\"Conclusion\"],\n",
        "        example[\"Premise\"],\n",
        "        truncation=True,\n",
        "        padding=\"max_length\",\n",
        "        max_length=tokenizer.model_max_length,\n",
        "        return_tensors=\"pt\",\n",
        "    )\n",
        "\n",
        "    ### Combine text tokens with non-text features\n",
        "    encoded_example = {\n",
        "        \"input_ids\": text_tokens[\"input_ids\"],\n",
        "        \"token_type_ids\": text_tokens[\"token_type_ids\"],\n",
        "        \"attention_mask\": text_tokens[\"attention_mask\"],\n",
        "        \"Openness_to_change\": torch.tensor(\n",
        "            example[\"Openness_to_change\"], dtype=torch.bool\n",
        "        ),\n",
        "        \"Self_enhancement\": torch.tensor(example[\"Self_enhancement\"], dtype=torch.bool),\n",
        "        \"Conversation\": torch.tensor(example[\"Conversation\"], dtype=torch.bool),\n",
        "        \"Self_transcendence\": torch.tensor(\n",
        "            example[\"Self_transcendence\"], dtype=torch.bool\n",
        "        ),\n",
        "    }\n",
        "\n",
        "    return encoded_example"
      ]
    },
    {
      "cell_type": "markdown",
      "metadata": {
        "id": "hciZ0KMYmup1"
      },
      "source": [
        "## Conclusion - Premise - Stance Model"
      ]
    },
    {
      "cell_type": "code",
      "execution_count": null,
      "metadata": {
        "id": "fHP4LB4omup1"
      },
      "outputs": [],
      "source": [
        "### Encoding for Conclusion - Premise - Stance model\n",
        "def tokenize_conclusion_premise_stance(example):\n",
        "    ### Tokenize text columns\n",
        "    text_tokens = tokenizer(\n",
        "        example[\"Conclusion\"],\n",
        "        example[\"Premise\"],\n",
        "        truncation=True,\n",
        "        padding=\"max_length\",\n",
        "        max_length=tokenizer.model_max_length,\n",
        "        return_tensors=\"pt\",\n",
        "    )\n",
        "\n",
        "    ### Combine text tokens with non-text features\n",
        "    encoded_example = {\n",
        "        \"input_ids\": text_tokens[\"input_ids\"],\n",
        "        \"token_type_ids\": text_tokens[\"token_type_ids\"],\n",
        "        \"attention_mask\": text_tokens[\"attention_mask\"],\n",
        "        \"Stance\": torch.tensor(\n",
        "            example[\"Stance\"], dtype=torch.bool\n",
        "        ),  ### Assuming 'Stance' is represented as 0 or 1\n",
        "        \"Openness_to_change\": torch.tensor(\n",
        "            example[\"Openness_to_change\"], dtype=torch.bool\n",
        "        ),\n",
        "        \"Self_enhancement\": torch.tensor(example[\"Self_enhancement\"], dtype=torch.bool),\n",
        "        \"Conversation\": torch.tensor(example[\"Conversation\"], dtype=torch.bool),\n",
        "        \"Self_transcendence\": torch.tensor(\n",
        "            example[\"Self_transcendence\"], dtype=torch.bool\n",
        "        ),\n",
        "    }\n",
        "\n",
        "    return encoded_example"
      ]
    }
  ],
  "metadata": {
    "accelerator": "GPU",
    "colab": {
      "gpuType": "T4",
      "provenance": []
    },
    "kernelspec": {
      "display_name": "Python 3",
      "name": "python3"
    },
    "language_info": {
      "codemirror_mode": {
        "name": "ipython",
        "version": 3
      },
      "file_extension": ".py",
      "mimetype": "text/x-python",
      "name": "python",
      "nbconvert_exporter": "python",
      "pygments_lexer": "ipython3",
      "version": "3.8.10"
    },
    "widgets": {
      "application/vnd.jupyter.widget-state+json": {
        "0ab65e931fc34d32b11f63fe7e1f714c": {
          "model_module": "@jupyter-widgets/controls",
          "model_module_version": "1.5.0",
          "model_name": "FloatProgressModel",
          "state": {
            "_dom_classes": [],
            "_model_module": "@jupyter-widgets/controls",
            "_model_module_version": "1.5.0",
            "_model_name": "FloatProgressModel",
            "_view_count": null,
            "_view_module": "@jupyter-widgets/controls",
            "_view_module_version": "1.5.0",
            "_view_name": "ProgressView",
            "bar_style": "success",
            "description": "",
            "description_tooltip": null,
            "layout": "IPY_MODEL_4b1ccc97d84c482fa72299cb943014df",
            "max": 1896,
            "min": 0,
            "orientation": "horizontal",
            "style": "IPY_MODEL_eae2be801df3480681858b3055dfa247",
            "value": 1896
          }
        },
        "12f654722d7a4fb58aeb6708804f395b": {
          "model_module": "@jupyter-widgets/base",
          "model_module_version": "1.2.0",
          "model_name": "LayoutModel",
          "state": {
            "_model_module": "@jupyter-widgets/base",
            "_model_module_version": "1.2.0",
            "_model_name": "LayoutModel",
            "_view_count": null,
            "_view_module": "@jupyter-widgets/base",
            "_view_module_version": "1.2.0",
            "_view_name": "LayoutView",
            "align_content": null,
            "align_items": null,
            "align_self": null,
            "border": null,
            "bottom": null,
            "display": null,
            "flex": null,
            "flex_flow": null,
            "grid_area": null,
            "grid_auto_columns": null,
            "grid_auto_flow": null,
            "grid_auto_rows": null,
            "grid_column": null,
            "grid_gap": null,
            "grid_row": null,
            "grid_template_areas": null,
            "grid_template_columns": null,
            "grid_template_rows": null,
            "height": null,
            "justify_content": null,
            "justify_items": null,
            "left": null,
            "margin": null,
            "max_height": null,
            "max_width": null,
            "min_height": null,
            "min_width": null,
            "object_fit": null,
            "object_position": null,
            "order": null,
            "overflow": null,
            "overflow_x": null,
            "overflow_y": null,
            "padding": null,
            "right": null,
            "top": null,
            "visibility": null,
            "width": null
          }
        },
        "13cf588e03b64d8eb324a43f021a1ae5": {
          "model_module": "@jupyter-widgets/base",
          "model_module_version": "1.2.0",
          "model_name": "LayoutModel",
          "state": {
            "_model_module": "@jupyter-widgets/base",
            "_model_module_version": "1.2.0",
            "_model_name": "LayoutModel",
            "_view_count": null,
            "_view_module": "@jupyter-widgets/base",
            "_view_module_version": "1.2.0",
            "_view_name": "LayoutView",
            "align_content": null,
            "align_items": null,
            "align_self": null,
            "border": null,
            "bottom": null,
            "display": null,
            "flex": null,
            "flex_flow": null,
            "grid_area": null,
            "grid_auto_columns": null,
            "grid_auto_flow": null,
            "grid_auto_rows": null,
            "grid_column": null,
            "grid_gap": null,
            "grid_row": null,
            "grid_template_areas": null,
            "grid_template_columns": null,
            "grid_template_rows": null,
            "height": null,
            "justify_content": null,
            "justify_items": null,
            "left": null,
            "margin": null,
            "max_height": null,
            "max_width": null,
            "min_height": null,
            "min_width": null,
            "object_fit": null,
            "object_position": null,
            "order": null,
            "overflow": null,
            "overflow_x": null,
            "overflow_y": null,
            "padding": null,
            "right": null,
            "top": null,
            "visibility": null,
            "width": null
          }
        },
        "13d6f258286b4008b34539ca1fad1a72": {
          "model_module": "@jupyter-widgets/controls",
          "model_module_version": "1.5.0",
          "model_name": "HTMLModel",
          "state": {
            "_dom_classes": [],
            "_model_module": "@jupyter-widgets/controls",
            "_model_module_version": "1.5.0",
            "_model_name": "HTMLModel",
            "_view_count": null,
            "_view_module": "@jupyter-widgets/controls",
            "_view_module_version": "1.5.0",
            "_view_name": "HTMLView",
            "description": "",
            "description_tooltip": null,
            "layout": "IPY_MODEL_184e62e2f0ec429587b42a7cb9cc5652",
            "placeholder": "​",
            "style": "IPY_MODEL_56cee1daec7e4e6f8a1b39f2b7c5d30f",
            "value": "Map: 100%"
          }
        },
        "184e62e2f0ec429587b42a7cb9cc5652": {
          "model_module": "@jupyter-widgets/base",
          "model_module_version": "1.2.0",
          "model_name": "LayoutModel",
          "state": {
            "_model_module": "@jupyter-widgets/base",
            "_model_module_version": "1.2.0",
            "_model_name": "LayoutModel",
            "_view_count": null,
            "_view_module": "@jupyter-widgets/base",
            "_view_module_version": "1.2.0",
            "_view_name": "LayoutView",
            "align_content": null,
            "align_items": null,
            "align_self": null,
            "border": null,
            "bottom": null,
            "display": null,
            "flex": null,
            "flex_flow": null,
            "grid_area": null,
            "grid_auto_columns": null,
            "grid_auto_flow": null,
            "grid_auto_rows": null,
            "grid_column": null,
            "grid_gap": null,
            "grid_row": null,
            "grid_template_areas": null,
            "grid_template_columns": null,
            "grid_template_rows": null,
            "height": null,
            "justify_content": null,
            "justify_items": null,
            "left": null,
            "margin": null,
            "max_height": null,
            "max_width": null,
            "min_height": null,
            "min_width": null,
            "object_fit": null,
            "object_position": null,
            "order": null,
            "overflow": null,
            "overflow_x": null,
            "overflow_y": null,
            "padding": null,
            "right": null,
            "top": null,
            "visibility": null,
            "width": null
          }
        },
        "1bfca35940c84cd8a5960a9798f671a3": {
          "model_module": "@jupyter-widgets/controls",
          "model_module_version": "1.5.0",
          "model_name": "DescriptionStyleModel",
          "state": {
            "_model_module": "@jupyter-widgets/controls",
            "_model_module_version": "1.5.0",
            "_model_name": "DescriptionStyleModel",
            "_view_count": null,
            "_view_module": "@jupyter-widgets/base",
            "_view_module_version": "1.2.0",
            "_view_name": "StyleView",
            "description_width": ""
          }
        },
        "4580833ee80946a68377a1cc07e5b797": {
          "model_module": "@jupyter-widgets/base",
          "model_module_version": "1.2.0",
          "model_name": "LayoutModel",
          "state": {
            "_model_module": "@jupyter-widgets/base",
            "_model_module_version": "1.2.0",
            "_model_name": "LayoutModel",
            "_view_count": null,
            "_view_module": "@jupyter-widgets/base",
            "_view_module_version": "1.2.0",
            "_view_name": "LayoutView",
            "align_content": null,
            "align_items": null,
            "align_self": null,
            "border": null,
            "bottom": null,
            "display": null,
            "flex": null,
            "flex_flow": null,
            "grid_area": null,
            "grid_auto_columns": null,
            "grid_auto_flow": null,
            "grid_auto_rows": null,
            "grid_column": null,
            "grid_gap": null,
            "grid_row": null,
            "grid_template_areas": null,
            "grid_template_columns": null,
            "grid_template_rows": null,
            "height": null,
            "justify_content": null,
            "justify_items": null,
            "left": null,
            "margin": null,
            "max_height": null,
            "max_width": null,
            "min_height": null,
            "min_width": null,
            "object_fit": null,
            "object_position": null,
            "order": null,
            "overflow": null,
            "overflow_x": null,
            "overflow_y": null,
            "padding": null,
            "right": null,
            "top": null,
            "visibility": null,
            "width": null
          }
        },
        "4b1ccc97d84c482fa72299cb943014df": {
          "model_module": "@jupyter-widgets/base",
          "model_module_version": "1.2.0",
          "model_name": "LayoutModel",
          "state": {
            "_model_module": "@jupyter-widgets/base",
            "_model_module_version": "1.2.0",
            "_model_name": "LayoutModel",
            "_view_count": null,
            "_view_module": "@jupyter-widgets/base",
            "_view_module_version": "1.2.0",
            "_view_name": "LayoutView",
            "align_content": null,
            "align_items": null,
            "align_self": null,
            "border": null,
            "bottom": null,
            "display": null,
            "flex": null,
            "flex_flow": null,
            "grid_area": null,
            "grid_auto_columns": null,
            "grid_auto_flow": null,
            "grid_auto_rows": null,
            "grid_column": null,
            "grid_gap": null,
            "grid_row": null,
            "grid_template_areas": null,
            "grid_template_columns": null,
            "grid_template_rows": null,
            "height": null,
            "justify_content": null,
            "justify_items": null,
            "left": null,
            "margin": null,
            "max_height": null,
            "max_width": null,
            "min_height": null,
            "min_width": null,
            "object_fit": null,
            "object_position": null,
            "order": null,
            "overflow": null,
            "overflow_x": null,
            "overflow_y": null,
            "padding": null,
            "right": null,
            "top": null,
            "visibility": null,
            "width": null
          }
        },
        "4b4d1dcda6764b83870c13547e4ab3a6": {
          "model_module": "@jupyter-widgets/base",
          "model_module_version": "1.2.0",
          "model_name": "LayoutModel",
          "state": {
            "_model_module": "@jupyter-widgets/base",
            "_model_module_version": "1.2.0",
            "_model_name": "LayoutModel",
            "_view_count": null,
            "_view_module": "@jupyter-widgets/base",
            "_view_module_version": "1.2.0",
            "_view_name": "LayoutView",
            "align_content": null,
            "align_items": null,
            "align_self": null,
            "border": null,
            "bottom": null,
            "display": null,
            "flex": null,
            "flex_flow": null,
            "grid_area": null,
            "grid_auto_columns": null,
            "grid_auto_flow": null,
            "grid_auto_rows": null,
            "grid_column": null,
            "grid_gap": null,
            "grid_row": null,
            "grid_template_areas": null,
            "grid_template_columns": null,
            "grid_template_rows": null,
            "height": null,
            "justify_content": null,
            "justify_items": null,
            "left": null,
            "margin": null,
            "max_height": null,
            "max_width": null,
            "min_height": null,
            "min_width": null,
            "object_fit": null,
            "object_position": null,
            "order": null,
            "overflow": null,
            "overflow_x": null,
            "overflow_y": null,
            "padding": null,
            "right": null,
            "top": null,
            "visibility": null,
            "width": null
          }
        },
        "4d635dd96b9d4459a17bcdb460511d5b": {
          "model_module": "@jupyter-widgets/controls",
          "model_module_version": "1.5.0",
          "model_name": "HTMLModel",
          "state": {
            "_dom_classes": [],
            "_model_module": "@jupyter-widgets/controls",
            "_model_module_version": "1.5.0",
            "_model_name": "HTMLModel",
            "_view_count": null,
            "_view_module": "@jupyter-widgets/controls",
            "_view_module_version": "1.5.0",
            "_view_name": "HTMLView",
            "description": "",
            "description_tooltip": null,
            "layout": "IPY_MODEL_b4333dbca9244ec098af1eae585c18a4",
            "placeholder": "​",
            "style": "IPY_MODEL_7f104aee57264b99baa59b7467c94104",
            "value": " 1576/1576 [00:01&lt;00:00, 891.80 examples/s]"
          }
        },
        "56cee1daec7e4e6f8a1b39f2b7c5d30f": {
          "model_module": "@jupyter-widgets/controls",
          "model_module_version": "1.5.0",
          "model_name": "DescriptionStyleModel",
          "state": {
            "_model_module": "@jupyter-widgets/controls",
            "_model_module_version": "1.5.0",
            "_model_name": "DescriptionStyleModel",
            "_view_count": null,
            "_view_module": "@jupyter-widgets/base",
            "_view_module_version": "1.2.0",
            "_view_name": "StyleView",
            "description_width": ""
          }
        },
        "5780da4302284cc980d74be84cabdca9": {
          "model_module": "@jupyter-widgets/base",
          "model_module_version": "1.2.0",
          "model_name": "LayoutModel",
          "state": {
            "_model_module": "@jupyter-widgets/base",
            "_model_module_version": "1.2.0",
            "_model_name": "LayoutModel",
            "_view_count": null,
            "_view_module": "@jupyter-widgets/base",
            "_view_module_version": "1.2.0",
            "_view_name": "LayoutView",
            "align_content": null,
            "align_items": null,
            "align_self": null,
            "border": null,
            "bottom": null,
            "display": null,
            "flex": null,
            "flex_flow": null,
            "grid_area": null,
            "grid_auto_columns": null,
            "grid_auto_flow": null,
            "grid_auto_rows": null,
            "grid_column": null,
            "grid_gap": null,
            "grid_row": null,
            "grid_template_areas": null,
            "grid_template_columns": null,
            "grid_template_rows": null,
            "height": null,
            "justify_content": null,
            "justify_items": null,
            "left": null,
            "margin": null,
            "max_height": null,
            "max_width": null,
            "min_height": null,
            "min_width": null,
            "object_fit": null,
            "object_position": null,
            "order": null,
            "overflow": null,
            "overflow_x": null,
            "overflow_y": null,
            "padding": null,
            "right": null,
            "top": null,
            "visibility": null,
            "width": null
          }
        },
        "57e4a26416b343679796c140fc71c361": {
          "model_module": "@jupyter-widgets/controls",
          "model_module_version": "1.5.0",
          "model_name": "DescriptionStyleModel",
          "state": {
            "_model_module": "@jupyter-widgets/controls",
            "_model_module_version": "1.5.0",
            "_model_name": "DescriptionStyleModel",
            "_view_count": null,
            "_view_module": "@jupyter-widgets/base",
            "_view_module_version": "1.2.0",
            "_view_name": "StyleView",
            "description_width": ""
          }
        },
        "70c0b981a52e42e59a521fb85a76b4d7": {
          "model_module": "@jupyter-widgets/controls",
          "model_module_version": "1.5.0",
          "model_name": "HTMLModel",
          "state": {
            "_dom_classes": [],
            "_model_module": "@jupyter-widgets/controls",
            "_model_module_version": "1.5.0",
            "_model_name": "HTMLModel",
            "_view_count": null,
            "_view_module": "@jupyter-widgets/controls",
            "_view_module_version": "1.5.0",
            "_view_name": "HTMLView",
            "description": "",
            "description_tooltip": null,
            "layout": "IPY_MODEL_12f654722d7a4fb58aeb6708804f395b",
            "placeholder": "​",
            "style": "IPY_MODEL_1bfca35940c84cd8a5960a9798f671a3",
            "value": " 5393/5393 [00:04&lt;00:00, 1187.60 examples/s]"
          }
        },
        "74b825ae6cc245ccb7dfdc034c9a9328": {
          "model_module": "@jupyter-widgets/controls",
          "model_module_version": "1.5.0",
          "model_name": "HTMLModel",
          "state": {
            "_dom_classes": [],
            "_model_module": "@jupyter-widgets/controls",
            "_model_module_version": "1.5.0",
            "_model_name": "HTMLModel",
            "_view_count": null,
            "_view_module": "@jupyter-widgets/controls",
            "_view_module_version": "1.5.0",
            "_view_name": "HTMLView",
            "description": "",
            "description_tooltip": null,
            "layout": "IPY_MODEL_5780da4302284cc980d74be84cabdca9",
            "placeholder": "​",
            "style": "IPY_MODEL_97fe8a180f4146d0bbf1b089e3c540cc",
            "value": " 1896/1896 [00:01&lt;00:00, 1103.01 examples/s]"
          }
        },
        "7aa1fcba973842f6859da2f8419eab43": {
          "model_module": "@jupyter-widgets/base",
          "model_module_version": "1.2.0",
          "model_name": "LayoutModel",
          "state": {
            "_model_module": "@jupyter-widgets/base",
            "_model_module_version": "1.2.0",
            "_model_name": "LayoutModel",
            "_view_count": null,
            "_view_module": "@jupyter-widgets/base",
            "_view_module_version": "1.2.0",
            "_view_name": "LayoutView",
            "align_content": null,
            "align_items": null,
            "align_self": null,
            "border": null,
            "bottom": null,
            "display": null,
            "flex": null,
            "flex_flow": null,
            "grid_area": null,
            "grid_auto_columns": null,
            "grid_auto_flow": null,
            "grid_auto_rows": null,
            "grid_column": null,
            "grid_gap": null,
            "grid_row": null,
            "grid_template_areas": null,
            "grid_template_columns": null,
            "grid_template_rows": null,
            "height": null,
            "justify_content": null,
            "justify_items": null,
            "left": null,
            "margin": null,
            "max_height": null,
            "max_width": null,
            "min_height": null,
            "min_width": null,
            "object_fit": null,
            "object_position": null,
            "order": null,
            "overflow": null,
            "overflow_x": null,
            "overflow_y": null,
            "padding": null,
            "right": null,
            "top": null,
            "visibility": null,
            "width": null
          }
        },
        "7f104aee57264b99baa59b7467c94104": {
          "model_module": "@jupyter-widgets/controls",
          "model_module_version": "1.5.0",
          "model_name": "DescriptionStyleModel",
          "state": {
            "_model_module": "@jupyter-widgets/controls",
            "_model_module_version": "1.5.0",
            "_model_name": "DescriptionStyleModel",
            "_view_count": null,
            "_view_module": "@jupyter-widgets/base",
            "_view_module_version": "1.2.0",
            "_view_name": "StyleView",
            "description_width": ""
          }
        },
        "823142c7e21c42c4b3ff8052bba83a23": {
          "model_module": "@jupyter-widgets/controls",
          "model_module_version": "1.5.0",
          "model_name": "FloatProgressModel",
          "state": {
            "_dom_classes": [],
            "_model_module": "@jupyter-widgets/controls",
            "_model_module_version": "1.5.0",
            "_model_name": "FloatProgressModel",
            "_view_count": null,
            "_view_module": "@jupyter-widgets/controls",
            "_view_module_version": "1.5.0",
            "_view_name": "ProgressView",
            "bar_style": "success",
            "description": "",
            "description_tooltip": null,
            "layout": "IPY_MODEL_f1c7a82c15ea403d8ccc8d5d3ebdcabe",
            "max": 1576,
            "min": 0,
            "orientation": "horizontal",
            "style": "IPY_MODEL_e221cfec56984028b99ec5b6cead7dd2",
            "value": 1576
          }
        },
        "82705c28e0ef47bbba0670ccfd68f6a3": {
          "model_module": "@jupyter-widgets/controls",
          "model_module_version": "1.5.0",
          "model_name": "HBoxModel",
          "state": {
            "_dom_classes": [],
            "_model_module": "@jupyter-widgets/controls",
            "_model_module_version": "1.5.0",
            "_model_name": "HBoxModel",
            "_view_count": null,
            "_view_module": "@jupyter-widgets/controls",
            "_view_module_version": "1.5.0",
            "_view_name": "HBoxView",
            "box_style": "",
            "children": [
              "IPY_MODEL_13d6f258286b4008b34539ca1fad1a72",
              "IPY_MODEL_823142c7e21c42c4b3ff8052bba83a23",
              "IPY_MODEL_4d635dd96b9d4459a17bcdb460511d5b"
            ],
            "layout": "IPY_MODEL_4b4d1dcda6764b83870c13547e4ab3a6"
          }
        },
        "8cbab753167d4047ba4fc5dfc95b2353": {
          "model_module": "@jupyter-widgets/controls",
          "model_module_version": "1.5.0",
          "model_name": "HBoxModel",
          "state": {
            "_dom_classes": [],
            "_model_module": "@jupyter-widgets/controls",
            "_model_module_version": "1.5.0",
            "_model_name": "HBoxModel",
            "_view_count": null,
            "_view_module": "@jupyter-widgets/controls",
            "_view_module_version": "1.5.0",
            "_view_name": "HBoxView",
            "box_style": "",
            "children": [
              "IPY_MODEL_cdc97074946146e294d4d619a0b7352c",
              "IPY_MODEL_a46a803e88ad45cd805a49f7237308de",
              "IPY_MODEL_70c0b981a52e42e59a521fb85a76b4d7"
            ],
            "layout": "IPY_MODEL_7aa1fcba973842f6859da2f8419eab43"
          }
        },
        "8f64d1a17e2b4957a569223a0f0c7d9a": {
          "model_module": "@jupyter-widgets/controls",
          "model_module_version": "1.5.0",
          "model_name": "HBoxModel",
          "state": {
            "_dom_classes": [],
            "_model_module": "@jupyter-widgets/controls",
            "_model_module_version": "1.5.0",
            "_model_name": "HBoxModel",
            "_view_count": null,
            "_view_module": "@jupyter-widgets/controls",
            "_view_module_version": "1.5.0",
            "_view_name": "HBoxView",
            "box_style": "",
            "children": [
              "IPY_MODEL_918fe5a17f21473892efa27cb82f8db0",
              "IPY_MODEL_0ab65e931fc34d32b11f63fe7e1f714c",
              "IPY_MODEL_74b825ae6cc245ccb7dfdc034c9a9328"
            ],
            "layout": "IPY_MODEL_13cf588e03b64d8eb324a43f021a1ae5"
          }
        },
        "918fe5a17f21473892efa27cb82f8db0": {
          "model_module": "@jupyter-widgets/controls",
          "model_module_version": "1.5.0",
          "model_name": "HTMLModel",
          "state": {
            "_dom_classes": [],
            "_model_module": "@jupyter-widgets/controls",
            "_model_module_version": "1.5.0",
            "_model_name": "HTMLModel",
            "_view_count": null,
            "_view_module": "@jupyter-widgets/controls",
            "_view_module_version": "1.5.0",
            "_view_name": "HTMLView",
            "description": "",
            "description_tooltip": null,
            "layout": "IPY_MODEL_4580833ee80946a68377a1cc07e5b797",
            "placeholder": "​",
            "style": "IPY_MODEL_57e4a26416b343679796c140fc71c361",
            "value": "Map: 100%"
          }
        },
        "97fe8a180f4146d0bbf1b089e3c540cc": {
          "model_module": "@jupyter-widgets/controls",
          "model_module_version": "1.5.0",
          "model_name": "DescriptionStyleModel",
          "state": {
            "_model_module": "@jupyter-widgets/controls",
            "_model_module_version": "1.5.0",
            "_model_name": "DescriptionStyleModel",
            "_view_count": null,
            "_view_module": "@jupyter-widgets/base",
            "_view_module_version": "1.2.0",
            "_view_name": "StyleView",
            "description_width": ""
          }
        },
        "a46a803e88ad45cd805a49f7237308de": {
          "model_module": "@jupyter-widgets/controls",
          "model_module_version": "1.5.0",
          "model_name": "FloatProgressModel",
          "state": {
            "_dom_classes": [],
            "_model_module": "@jupyter-widgets/controls",
            "_model_module_version": "1.5.0",
            "_model_name": "FloatProgressModel",
            "_view_count": null,
            "_view_module": "@jupyter-widgets/controls",
            "_view_module_version": "1.5.0",
            "_view_name": "ProgressView",
            "bar_style": "success",
            "description": "",
            "description_tooltip": null,
            "layout": "IPY_MODEL_acb69cfe6e2a47959ff0776b2076c895",
            "max": 5393,
            "min": 0,
            "orientation": "horizontal",
            "style": "IPY_MODEL_e8143cedd47c46668ed357ea649c0d86",
            "value": 5393
          }
        },
        "acb69cfe6e2a47959ff0776b2076c895": {
          "model_module": "@jupyter-widgets/base",
          "model_module_version": "1.2.0",
          "model_name": "LayoutModel",
          "state": {
            "_model_module": "@jupyter-widgets/base",
            "_model_module_version": "1.2.0",
            "_model_name": "LayoutModel",
            "_view_count": null,
            "_view_module": "@jupyter-widgets/base",
            "_view_module_version": "1.2.0",
            "_view_name": "LayoutView",
            "align_content": null,
            "align_items": null,
            "align_self": null,
            "border": null,
            "bottom": null,
            "display": null,
            "flex": null,
            "flex_flow": null,
            "grid_area": null,
            "grid_auto_columns": null,
            "grid_auto_flow": null,
            "grid_auto_rows": null,
            "grid_column": null,
            "grid_gap": null,
            "grid_row": null,
            "grid_template_areas": null,
            "grid_template_columns": null,
            "grid_template_rows": null,
            "height": null,
            "justify_content": null,
            "justify_items": null,
            "left": null,
            "margin": null,
            "max_height": null,
            "max_width": null,
            "min_height": null,
            "min_width": null,
            "object_fit": null,
            "object_position": null,
            "order": null,
            "overflow": null,
            "overflow_x": null,
            "overflow_y": null,
            "padding": null,
            "right": null,
            "top": null,
            "visibility": null,
            "width": null
          }
        },
        "b133756d8e4f46d38887045b5cfba5c0": {
          "model_module": "@jupyter-widgets/base",
          "model_module_version": "1.2.0",
          "model_name": "LayoutModel",
          "state": {
            "_model_module": "@jupyter-widgets/base",
            "_model_module_version": "1.2.0",
            "_model_name": "LayoutModel",
            "_view_count": null,
            "_view_module": "@jupyter-widgets/base",
            "_view_module_version": "1.2.0",
            "_view_name": "LayoutView",
            "align_content": null,
            "align_items": null,
            "align_self": null,
            "border": null,
            "bottom": null,
            "display": null,
            "flex": null,
            "flex_flow": null,
            "grid_area": null,
            "grid_auto_columns": null,
            "grid_auto_flow": null,
            "grid_auto_rows": null,
            "grid_column": null,
            "grid_gap": null,
            "grid_row": null,
            "grid_template_areas": null,
            "grid_template_columns": null,
            "grid_template_rows": null,
            "height": null,
            "justify_content": null,
            "justify_items": null,
            "left": null,
            "margin": null,
            "max_height": null,
            "max_width": null,
            "min_height": null,
            "min_width": null,
            "object_fit": null,
            "object_position": null,
            "order": null,
            "overflow": null,
            "overflow_x": null,
            "overflow_y": null,
            "padding": null,
            "right": null,
            "top": null,
            "visibility": null,
            "width": null
          }
        },
        "b4333dbca9244ec098af1eae585c18a4": {
          "model_module": "@jupyter-widgets/base",
          "model_module_version": "1.2.0",
          "model_name": "LayoutModel",
          "state": {
            "_model_module": "@jupyter-widgets/base",
            "_model_module_version": "1.2.0",
            "_model_name": "LayoutModel",
            "_view_count": null,
            "_view_module": "@jupyter-widgets/base",
            "_view_module_version": "1.2.0",
            "_view_name": "LayoutView",
            "align_content": null,
            "align_items": null,
            "align_self": null,
            "border": null,
            "bottom": null,
            "display": null,
            "flex": null,
            "flex_flow": null,
            "grid_area": null,
            "grid_auto_columns": null,
            "grid_auto_flow": null,
            "grid_auto_rows": null,
            "grid_column": null,
            "grid_gap": null,
            "grid_row": null,
            "grid_template_areas": null,
            "grid_template_columns": null,
            "grid_template_rows": null,
            "height": null,
            "justify_content": null,
            "justify_items": null,
            "left": null,
            "margin": null,
            "max_height": null,
            "max_width": null,
            "min_height": null,
            "min_width": null,
            "object_fit": null,
            "object_position": null,
            "order": null,
            "overflow": null,
            "overflow_x": null,
            "overflow_y": null,
            "padding": null,
            "right": null,
            "top": null,
            "visibility": null,
            "width": null
          }
        },
        "b75ffbac3f5d4be5984ea703aa968e72": {
          "model_module": "@jupyter-widgets/controls",
          "model_module_version": "1.5.0",
          "model_name": "DescriptionStyleModel",
          "state": {
            "_model_module": "@jupyter-widgets/controls",
            "_model_module_version": "1.5.0",
            "_model_name": "DescriptionStyleModel",
            "_view_count": null,
            "_view_module": "@jupyter-widgets/base",
            "_view_module_version": "1.2.0",
            "_view_name": "StyleView",
            "description_width": ""
          }
        },
        "cdc97074946146e294d4d619a0b7352c": {
          "model_module": "@jupyter-widgets/controls",
          "model_module_version": "1.5.0",
          "model_name": "HTMLModel",
          "state": {
            "_dom_classes": [],
            "_model_module": "@jupyter-widgets/controls",
            "_model_module_version": "1.5.0",
            "_model_name": "HTMLModel",
            "_view_count": null,
            "_view_module": "@jupyter-widgets/controls",
            "_view_module_version": "1.5.0",
            "_view_name": "HTMLView",
            "description": "",
            "description_tooltip": null,
            "layout": "IPY_MODEL_b133756d8e4f46d38887045b5cfba5c0",
            "placeholder": "​",
            "style": "IPY_MODEL_b75ffbac3f5d4be5984ea703aa968e72",
            "value": "Map: 100%"
          }
        },
        "e221cfec56984028b99ec5b6cead7dd2": {
          "model_module": "@jupyter-widgets/controls",
          "model_module_version": "1.5.0",
          "model_name": "ProgressStyleModel",
          "state": {
            "_model_module": "@jupyter-widgets/controls",
            "_model_module_version": "1.5.0",
            "_model_name": "ProgressStyleModel",
            "_view_count": null,
            "_view_module": "@jupyter-widgets/base",
            "_view_module_version": "1.2.0",
            "_view_name": "StyleView",
            "bar_color": null,
            "description_width": ""
          }
        },
        "e8143cedd47c46668ed357ea649c0d86": {
          "model_module": "@jupyter-widgets/controls",
          "model_module_version": "1.5.0",
          "model_name": "ProgressStyleModel",
          "state": {
            "_model_module": "@jupyter-widgets/controls",
            "_model_module_version": "1.5.0",
            "_model_name": "ProgressStyleModel",
            "_view_count": null,
            "_view_module": "@jupyter-widgets/base",
            "_view_module_version": "1.2.0",
            "_view_name": "StyleView",
            "bar_color": null,
            "description_width": ""
          }
        },
        "eae2be801df3480681858b3055dfa247": {
          "model_module": "@jupyter-widgets/controls",
          "model_module_version": "1.5.0",
          "model_name": "ProgressStyleModel",
          "state": {
            "_model_module": "@jupyter-widgets/controls",
            "_model_module_version": "1.5.0",
            "_model_name": "ProgressStyleModel",
            "_view_count": null,
            "_view_module": "@jupyter-widgets/base",
            "_view_module_version": "1.2.0",
            "_view_name": "StyleView",
            "bar_color": null,
            "description_width": ""
          }
        },
        "f1c7a82c15ea403d8ccc8d5d3ebdcabe": {
          "model_module": "@jupyter-widgets/base",
          "model_module_version": "1.2.0",
          "model_name": "LayoutModel",
          "state": {
            "_model_module": "@jupyter-widgets/base",
            "_model_module_version": "1.2.0",
            "_model_name": "LayoutModel",
            "_view_count": null,
            "_view_module": "@jupyter-widgets/base",
            "_view_module_version": "1.2.0",
            "_view_name": "LayoutView",
            "align_content": null,
            "align_items": null,
            "align_self": null,
            "border": null,
            "bottom": null,
            "display": null,
            "flex": null,
            "flex_flow": null,
            "grid_area": null,
            "grid_auto_columns": null,
            "grid_auto_flow": null,
            "grid_auto_rows": null,
            "grid_column": null,
            "grid_gap": null,
            "grid_row": null,
            "grid_template_areas": null,
            "grid_template_columns": null,
            "grid_template_rows": null,
            "height": null,
            "justify_content": null,
            "justify_items": null,
            "left": null,
            "margin": null,
            "max_height": null,
            "max_width": null,
            "min_height": null,
            "min_width": null,
            "object_fit": null,
            "object_position": null,
            "order": null,
            "overflow": null,
            "overflow_x": null,
            "overflow_y": null,
            "padding": null,
            "right": null,
            "top": null,
            "visibility": null,
            "width": null
          }
        }
      }
    }
  },
  "nbformat": 4,
  "nbformat_minor": 0
}
