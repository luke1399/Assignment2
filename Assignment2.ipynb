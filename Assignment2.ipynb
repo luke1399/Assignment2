{
  "cells": [
    {
      "cell_type": "code",
      "execution_count": 1,
      "metadata": {
        "colab": {
          "base_uri": "https://localhost:8080/"
        },
        "id": "mBky0WRKnLDP",
        "outputId": "91d2cacc-0252-4c57-d8ac-7991b510f303"
      },
      "outputs": [],
      "source": [
        "#!pip install datasets -q\n",
        "#!pip install accelerate -U -q\n",
        "#!pip install transformers -q"
      ]
    },
    {
      "cell_type": "code",
      "execution_count": 2,
      "metadata": {
        "id": "GLQEVUNkmupt"
      },
      "outputs": [
        {
          "name": "stderr",
          "output_type": "stream",
          "text": [
            "/home/leonardo/Projects/NLP_ASSIGNMENT_2/Assignment2/venv/lib/python3.8/site-packages/torch/cuda/__init__.py:611: UserWarning: Can't initialize NVML\n",
            "  warnings.warn(\"Can't initialize NVML\")\n",
            "/home/leonardo/Projects/NLP_ASSIGNMENT_2/Assignment2/venv/lib/python3.8/site-packages/torch/cuda/__init__.py:740: UserWarning: CUDA initialization: The NVIDIA driver on your system is too old (found version 11040). Please update your GPU driver by downloading and installing a new version from the URL: http://www.nvidia.com/Download/index.aspx Alternatively, go to: https://pytorch.org to install a PyTorch version that has been compiled with your version of the CUDA driver. (Triggered internally at ../c10/cuda/CUDAFunctions.cpp:108.)\n",
            "  return torch._C._cuda_getDeviceCount() if nvml_count < 0 else nvml_count\n"
          ]
        }
      ],
      "source": [
        "import urllib\n",
        "import pandas as pd\n",
        "import numpy as np\n",
        "from pathlib import Path\n",
        "from sklearn.dummy import DummyClassifier\n",
        "from sklearn.metrics import f1_score, roc_auc_score, accuracy_score\n",
        "from datasets import Dataset\n",
        "import torch\n",
        "from transformers import (\n",
        "    AutoModelForSequenceClassification,\n",
        "    AutoTokenizer,\n",
        "    DataCollatorWithPadding,\n",
        "    TrainingArguments,\n",
        "    Trainer,\n",
        ")"
      ]
    },
    {
      "cell_type": "code",
      "execution_count": 3,
      "metadata": {
        "colab": {
          "base_uri": "https://localhost:8080/"
        },
        "id": "LITvRFBXmupv",
        "outputId": "cff69f61-c66f-4d7a-cc06-e23523683400"
      },
      "outputs": [
        {
          "name": "stdout",
          "output_type": "stream",
          "text": [
            "Device: cpu\n"
          ]
        }
      ],
      "source": [
        "device = torch.device(\"cuda\" if torch.cuda.is_available() else \"cpu\")\n",
        "print(\"Device: %s\" % device)"
      ]
    },
    {
      "cell_type": "markdown",
      "metadata": {
        "id": "2XD5WRYKmupv"
      },
      "source": [
        "## TASK 1: Corpus\n"
      ]
    },
    {
      "cell_type": "code",
      "execution_count": 4,
      "metadata": {
        "id": "R3HAVDQ9mupw"
      },
      "outputs": [],
      "source": [
        "### Argument urls\n",
        "argument_urls = {\n",
        "    \"train\": \"https://zenodo.org/records/8248658/files/arguments-training.tsv?download=1\",\n",
        "    \"validation\": \"https://zenodo.org/records/8248658/files/arguments-validation.tsv?download=1\",\n",
        "    \"test\": \"https://zenodo.org/records/8248658/files/arguments-test.tsv?download=1\",\n",
        "}\n",
        "\n",
        "### Human values urls\n",
        "level2_values_urls = {\n",
        "    \"train\": \"https://zenodo.org/records/8248658/files/labels-training.tsv?download=1\",\n",
        "    \"validation\": \"https://zenodo.org/records/8248658/files/labels-validation.tsv?download=1\",\n",
        "    \"test\": \"https://zenodo.org/records/8248658/files/labels-test.tsv?download=1\",\n",
        "}\n",
        "### Check that the splits in the dict keys were not misspelled\n",
        "for split in level2_values_urls.keys():\n",
        "    assert split in argument_urls.keys(), \"url dictionary keys misspelled\""
      ]
    },
    {
      "cell_type": "code",
      "execution_count": 5,
      "metadata": {},
      "outputs": [],
      "source": [
        "### Create Data folder\n",
        "data_folder = Path.cwd().joinpath(\"Data\")\n",
        "if not data_folder.exists():\n",
        "    data_folder.mkdir(parents=True)\n",
        "\n",
        "### Path for each file\n",
        "argument_paths = {\n",
        "    split: data_folder.joinpath(f\"arguments_{split}.tsv\")\n",
        "    for split in argument_urls.keys()\n",
        "}\n",
        "level2_values_paths = {\n",
        "    split: data_folder.joinpath(f\"labels_{split}.tsv\")\n",
        "    for split in level2_values_urls.keys()\n",
        "}\n",
        "\n",
        "### Download each file if it's not already there\n",
        "for file, path in argument_paths.items():\n",
        "    if not path.exists():\n",
        "        urllib.request.urlretrieve(argument_urls[file], filename=path)\n",
        "for file, path in level2_values_paths.items():\n",
        "    if not path.exists():\n",
        "        urllib.request.urlretrieve(level2_values_urls[file], filename=path)"
      ]
    },
    {
      "cell_type": "code",
      "execution_count": 6,
      "metadata": {
        "id": "wtSpCbncmupw"
      },
      "outputs": [],
      "source": [
        "### Read arguments file (split = train/validation/test)\n",
        "argument_dfs = {\n",
        "    split: pd.read_csv(path, sep=\"\\t\") for split, path in argument_paths.items()\n",
        "}\n",
        "\n",
        "### Read human values file (split = train/validation/test)\n",
        "level2_values_dfs = {\n",
        "    values_split: pd.read_csv(path, sep=\"\\t\")\n",
        "    for values_split, path in level2_values_paths.items()\n",
        "}"
      ]
    },
    {
      "cell_type": "code",
      "execution_count": 7,
      "metadata": {},
      "outputs": [],
      "source": [
        "### Merge arguments and (labels) level 2 values (split = train/validation/test)\n",
        "# TODO find a better name for args_level2vals_dfs\n",
        "args_level2vals_dfs = {\n",
        "    split: pd.merge(argument, level2_values_dfs[split], on=\"Argument ID\")\n",
        "    for split, argument in argument_dfs.items()\n",
        "}"
      ]
    },
    {
      "cell_type": "code",
      "execution_count": 8,
      "metadata": {},
      "outputs": [],
      "source": [
        "# TODO just for developing purposes\n",
        "print = False"
      ]
    },
    {
      "cell_type": "code",
      "execution_count": 9,
      "metadata": {},
      "outputs": [],
      "source": [
        "if print:\n",
        "    print([d.shape for d in level2_values_dfs.values()])\n",
        "if print:\n",
        "    level2_values_dfs[\"train\"].head(2)"
      ]
    },
    {
      "cell_type": "code",
      "execution_count": 10,
      "metadata": {},
      "outputs": [],
      "source": [
        "if print:\n",
        "    print([d.shape for d in argument_dfs.values()])\n",
        "if print:\n",
        "    argument_dfs[\"train\"].head(2)"
      ]
    },
    {
      "cell_type": "code",
      "execution_count": 11,
      "metadata": {
        "colab": {
          "base_uri": "https://localhost:8080/",
          "height": 355
        },
        "id": "8FJvn74Bmupw",
        "outputId": "f4f10be9-6618-4ed0-fff2-a6aff86f11af"
      },
      "outputs": [],
      "source": [
        "if print:\n",
        "    args_level2vals_dfs[\"train\"].describe()"
      ]
    },
    {
      "cell_type": "code",
      "execution_count": 12,
      "metadata": {
        "colab": {
          "base_uri": "https://localhost:8080/",
          "height": 672
        },
        "id": "0z1YWKtAmupw",
        "outputId": "7b119adb-baea-494f-d5de-52d79f134df6"
      },
      "outputs": [],
      "source": [
        "if print:\n",
        "    print([d.shape for d in args_level2vals_dfs.values()])\n",
        "if print:\n",
        "    args_level2vals_dfs[\"train\"].head(2)"
      ]
    },
    {
      "cell_type": "code",
      "execution_count": 13,
      "metadata": {},
      "outputs": [],
      "source": [
        "# TODO REMOVE\n",
        "# ### if we want to merge the 3 df into 1 we do this\n",
        "# for split, df in args_level2vals_dfs.items():\n",
        "#     df[\"split\"] = split\n",
        "# #\n",
        "# big_df = pd.concat(args_level2vals_dfs.values(), axis=\"rows\")\n",
        "# print(big_df.shape)"
      ]
    },
    {
      "cell_type": "code",
      "execution_count": 14,
      "metadata": {},
      "outputs": [],
      "source": [
        "### Considering category ranges (0,3),(3,7),(7,13),(13,19)\n",
        "### adding +4, considering the first 4 columns which are not categories\n",
        "level3_categories_ranges = {\n",
        "    \"Openness_to_change\": (4, 7),\n",
        "    \"Self_enhancement\": (7, 11),\n",
        "    \"Conversation\": (11, 17),\n",
        "    \"Self_transcendence\": (17, 23),\n",
        "}\n",
        "columns_to_keep = [\"Argument ID\", \"Conclusion\", \"Stance\", \"Premise\"]\n",
        "### This will be useful later\n",
        "level_3_cat = list(level3_categories_ranges.keys())"
      ]
    },
    {
      "cell_type": "code",
      "execution_count": 15,
      "metadata": {},
      "outputs": [],
      "source": [
        "### Creating final dataframes\n",
        "\n",
        "train, validation, test = args_level2vals_dfs.keys()\n",
        "assert train == \"train\" and validation == \"validation\" and test == \"test\"\n",
        "\n",
        "### nm = not merged\n",
        "train_df_nm = args_level2vals_dfs[\"train\"]\n",
        "validation_df_nm = args_level2vals_dfs[\"validation\"]\n",
        "test_df_nm = args_level2vals_dfs[\"test\"]\n",
        "\n",
        "### Creating final dataframes\n",
        "train_df = pd.DataFrame()\n",
        "validation_df = pd.DataFrame()\n",
        "test_df = pd.DataFrame()\n",
        "\n",
        "### Merge lvl2 to lvl 3 (any = OR)\n",
        "for cat, (start, end) in level3_categories_ranges.items():\n",
        "    train_df[cat] = train_df_nm.iloc[:, start:end].any(axis=1)\n",
        "    validation_df[cat] = validation_df_nm.iloc[:, start:end].any(axis=1)\n",
        "    test_df[cat] = test_df_nm.iloc[:, start:end].any(axis=1)\n",
        "\n",
        "### Adding the columns to keep of the original dfs\n",
        "train_df = pd.concat([train_df_nm[columns_to_keep], train_df], axis=1)\n",
        "validation_df = pd.concat([validation_df_nm[columns_to_keep], validation_df], axis=1)\n",
        "test_df = pd.concat([test_df_nm[columns_to_keep], test_df], axis=1)\n",
        "\n",
        "### Define a mapping for \"Stance\" column\n",
        "stance_mapping = {\"in favor of\": 1, \"against\": 0}\n",
        "\n",
        "### Apply the mapping to convert strings to boolean values\n",
        "train_df[\"Stance\"] = train_df[\"Stance\"].map(stance_mapping)\n",
        "validation_df[\"Stance\"] = validation_df[\"Stance\"].map(stance_mapping)\n",
        "test_df[\"Stance\"] = test_df[\"Stance\"].map(stance_mapping)\n",
        "\n",
        "\n",
        "### TODO see version 1\n",
        "dfs = {\"train\": train_df, \"validation\": validation_df, \"test\": test_df}"
      ]
    },
    {
      "cell_type": "code",
      "execution_count": 16,
      "metadata": {},
      "outputs": [],
      "source": [
        "if print:\n",
        "    train_df.head(2)"
      ]
    },
    {
      "cell_type": "code",
      "execution_count": 17,
      "metadata": {
        "colab": {
          "base_uri": "https://localhost:8080/",
          "height": 261
        },
        "id": "9uNo8OnUmupx",
        "outputId": "b9791120-a38b-48f8-ea97-ab6af6dba2bd"
      },
      "outputs": [],
      "source": [
        "if print:\n",
        "    test_df.describe()"
      ]
    },
    {
      "cell_type": "code",
      "execution_count": 18,
      "metadata": {
        "colab": {
          "base_uri": "https://localhost:8080/"
        },
        "id": "pDsMk38dmupx",
        "outputId": "825b62f6-1eef-4dde-9add-9b3923fa8467"
      },
      "outputs": [],
      "source": [
        "if print:\n",
        "    test_df[\"Openness_to_change\"]"
      ]
    },
    {
      "cell_type": "code",
      "execution_count": 19,
      "metadata": {
        "id": "_dP07WHhmupy"
      },
      "outputs": [],
      "source": [
        "### TODO remove\n",
        "np.random.seed(12345678)"
      ]
    },
    {
      "cell_type": "markdown",
      "metadata": {
        "id": "WdC_EHS0mupx"
      },
      "source": [
        "# TASK 2: Model definition"
      ]
    },
    {
      "cell_type": "markdown",
      "metadata": {
        "id": "0xtHCuBamupx"
      },
      "source": [
        "### Baseline Model "
      ]
    },
    {
      "cell_type": "code",
      "execution_count": 20,
      "metadata": {},
      "outputs": [],
      "source": [
        "def baseline_model(\n",
        "    strategy, level_3_cat, train_df, columns_to_keep\n",
        "):  # Da rivere i parametri una volta definito un dizionario per tutte le variabili(?)\n",
        "    clf_list = [DummyClassifier(strategy=strategy) for _ in level_3_cat]\n",
        "    [\n",
        "        clf.fit(X=train_df[columns_to_keep[1:]], y=train_df[cat])\n",
        "        for clf, cat in zip(clf_list, level_3_cat)\n",
        "    ]\n",
        "    prediction = np.array(\n",
        "        [clf.predict(X=test_df[columns_to_keep[1:]]) for clf in clf_list]\n",
        "    ).T\n",
        "    return prediction"
      ]
    },
    {
      "cell_type": "markdown",
      "metadata": {
        "id": "I3dtkYMRmupy"
      },
      "source": [
        "## Bert - base Classifier"
      ]
    },
    {
      "cell_type": "code",
      "execution_count": 21,
      "metadata": {
        "id": "A1Y_4AZ2mupy"
      },
      "outputs": [],
      "source": [
        "### Convert dataframes into datasets\n",
        "datasets = {split: Dataset.from_pandas(df) for split, df in dfs.items()}"
      ]
    },
    {
      "cell_type": "code",
      "execution_count": 22,
      "metadata": {},
      "outputs": [],
      "source": [
        "### Huggingface provides the automodel for multi-label classification\n",
        "def generate_bert_auto_model(model_card, labels):\n",
        "    id2label = {idx: label for idx, label in enumerate(labels)}\n",
        "    label2id = {label: idx for idx, label in enumerate(labels)}\n",
        "\n",
        "    model = AutoModelForSequenceClassification.from_pretrained(\n",
        "        model_card,\n",
        "        problem_type=\"multi_label_classification\",\n",
        "        num_labels=len(labels),\n",
        "        id2label=id2label,\n",
        "        label2id=label2id,\n",
        "    )\n",
        "\n",
        "    tokenizer = AutoTokenizer.from_pretrained(model_card)\n",
        "    data_collator = DataCollatorWithPadding(tokenizer=tokenizer)\n",
        "\n",
        "    return (model, tokenizer, data_collator)"
      ]
    },
    {
      "cell_type": "code",
      "execution_count": 23,
      "metadata": {},
      "outputs": [],
      "source": [
        "### We can use a Huggingface model as an encoder and define our classification heads\n",
        "def generate_bert_model(model_card, labels):\n",
        "    pass"
      ]
    },
    {
      "cell_type": "markdown",
      "metadata": {
        "id": "_gYGvjafmupz"
      },
      "source": [
        "### Conclusion Only Model"
      ]
    },
    {
      "cell_type": "code",
      "execution_count": 24,
      "metadata": {},
      "outputs": [],
      "source": [
        "def add_labels(ds_row, labels):\n",
        "    labels_batch = {k: ds_row[k] for k in ds_row.keys() if k in labels}\n",
        "    labels_matrix = np.zeros((len(ds_row[\"Conclusion\"]), len(labels)))\n",
        "    for i, label in enumerate(labels):\n",
        "        labels_matrix[:, i] = labels_batch[label]\n",
        "    return labels_matrix.tolist()"
      ]
    },
    {
      "cell_type": "code",
      "execution_count": 25,
      "metadata": {
        "id": "8uFOBtbHmupz"
      },
      "outputs": [],
      "source": [
        "### Encoding for Conclusion only model\n",
        "def tokenize_conclusion(ds_row, tokenizer):\n",
        "    ### Tokenize text columns\n",
        "    text_tokens = tokenizer(\n",
        "        ds_row[\"Conclusion\"],\n",
        "        truncation=True,\n",
        "        padding=\"max_length\",  # TODO try to avoid padding here and use collator\n",
        "        max_length=tokenizer.model_max_length,\n",
        "        return_tensors=\"pt\",\n",
        "    )\n",
        "\n",
        "    ### Combine text tokens with non-text features\n",
        "    encoded_ds_row = {\n",
        "        \"input_ids\": text_tokens[\"input_ids\"],\n",
        "        \"token_type_ids\": text_tokens[\"token_type_ids\"],\n",
        "        \"attention_mask\": text_tokens[\"attention_mask\"],\n",
        "        \"Openness_to_change\": torch.tensor(\n",
        "            ds_row[\"Openness_to_change\"], dtype=torch.float\n",
        "        ),\n",
        "        \"Self_enhancement\": torch.tensor(ds_row[\"Self_enhancement\"], dtype=torch.float),\n",
        "        \"Conversation\": torch.tensor(ds_row[\"Conversation\"], dtype=torch.float),\n",
        "        \"Self_transcendence\": torch.tensor(\n",
        "            ds_row[\"Self_transcendence\"], dtype=torch.float\n",
        "        ),\n",
        "    }\n",
        "\n",
        "    encoded_ds_row[\"labels\"] = add_labels(\n",
        "        ds_row, level_3_cat\n",
        "    )  # TODO bring back code of function add_labels\n",
        "\n",
        "    return encoded_ds_row"
      ]
    },
    {
      "cell_type": "markdown",
      "metadata": {},
      "source": [
        "### Conclusion - Premise"
      ]
    },
    {
      "cell_type": "code",
      "execution_count": 50,
      "metadata": {},
      "outputs": [],
      "source": [
        "### Encoding for Conclusion - Premise model\n",
        "def tokenize_conclusion_premise(ds_row, tokenizer):\n",
        "    ### Tokenize text columns\n",
        "    text_tokens = tokenizer(\n",
        "        ds_row[\"Conclusion\"],\n",
        "        ds_row[\"Premise\"],\n",
        "        truncation=True,\n",
        "        padding=\"max_length\",\n",
        "        max_length=tokenizer.model_max_length,\n",
        "        return_tensors=\"pt\",\n",
        "    )\n",
        "\n",
        "    ### Combine text tokens with non-text features\n",
        "    encoded_ds_row = {\n",
        "        \"input_ids\": text_tokens[\"input_ids\"],\n",
        "        \"token_type_ids\": text_tokens[\"token_type_ids\"],\n",
        "        \"attention_mask\": text_tokens[\"attention_mask\"],\n",
        "        \"Openness_to_change\": torch.tensor(\n",
        "            ds_row[\"Openness_to_change\"], dtype=torch.float\n",
        "        ),\n",
        "        \"Self_enhancement\": torch.tensor(ds_row[\"Self_enhancement\"], dtype=torch.float),\n",
        "        \"Conversation\": torch.tensor(ds_row[\"Conversation\"], dtype=torch.float),\n",
        "        \"Self_transcendence\": torch.tensor(\n",
        "            ds_row[\"Self_transcendence\"], dtype=torch.float\n",
        "        ),\n",
        "    }\n",
        "    encoded_ds_row[\"labels\"] = add_labels(\n",
        "        ds_row, level_3_cat\n",
        "    )  # TODO bring back code of function add_labels\n",
        "\n",
        "    return encoded_ds_row"
      ]
    },
    {
      "cell_type": "markdown",
      "metadata": {},
      "source": [
        "### Conclusion - Premise - Stance"
      ]
    },
    {
      "cell_type": "code",
      "execution_count": 49,
      "metadata": {},
      "outputs": [],
      "source": [
        "### Encoding for Conclusion - Premise - Stance model\n",
        "def tokenize_conclusion_premise_stance(ds_row, tokenizer):\n",
        "    ### Tokenize text columns\n",
        "    text_tokens = tokenizer(\n",
        "        ds_row[\"Conclusion\"],\n",
        "        ds_row[\"Premise\"],\n",
        "        truncation=True,\n",
        "        padding=\"max_length\",\n",
        "        max_length=tokenizer.model_max_length,\n",
        "        return_tensors=\"pt\",\n",
        "    )\n",
        "\n",
        "    ### Combine text tokens with non-text features\n",
        "    encoded_ds_row = {\n",
        "        \"input_ids\": text_tokens[\"input_ids\"],\n",
        "        \"token_type_ids\": text_tokens[\"token_type_ids\"],\n",
        "        \"attention_mask\": text_tokens[\"attention_mask\"],\n",
        "        \"Stance\": torch.tensor(\n",
        "            ds_row[\"Stance\"], dtype=torch.float\n",
        "        ),  ### Assuming 'Stance' is represented as 0 or 1\n",
        "        \"Openness_to_change\": torch.tensor(\n",
        "            ds_row[\"Openness_to_change\"], dtype=torch.float\n",
        "        ),\n",
        "        \"Self_enhancement\": torch.tensor(ds_row[\"Self_enhancement\"], dtype=torch.float),\n",
        "        \"Conversation\": torch.tensor(ds_row[\"Conversation\"], dtype=torch.float),\n",
        "        \"Self_transcendence\": torch.tensor(\n",
        "            ds_row[\"Self_transcendence\"], dtype=torch.float\n",
        "        ),\n",
        "    }\n",
        "    encoded_ds_row[\"labels\"] = add_labels(\n",
        "        ds_row, level_3_cat\n",
        "    )  # TODO bring back code of function add_labels\n",
        "\n",
        "    return encoded_ds_row"
      ]
    },
    {
      "cell_type": "code",
      "execution_count": 28,
      "metadata": {
        "colab": {
          "base_uri": "https://localhost:8080/",
          "height": 113,
          "referenced_widgets": [
            "8cbab753167d4047ba4fc5dfc95b2353",
            "cdc97074946146e294d4d619a0b7352c",
            "a46a803e88ad45cd805a49f7237308de",
            "70c0b981a52e42e59a521fb85a76b4d7",
            "7aa1fcba973842f6859da2f8419eab43",
            "b133756d8e4f46d38887045b5cfba5c0",
            "b75ffbac3f5d4be5984ea703aa968e72",
            "acb69cfe6e2a47959ff0776b2076c895",
            "e8143cedd47c46668ed357ea649c0d86",
            "12f654722d7a4fb58aeb6708804f395b",
            "1bfca35940c84cd8a5960a9798f671a3",
            "8f64d1a17e2b4957a569223a0f0c7d9a",
            "918fe5a17f21473892efa27cb82f8db0",
            "0ab65e931fc34d32b11f63fe7e1f714c",
            "74b825ae6cc245ccb7dfdc034c9a9328",
            "13cf588e03b64d8eb324a43f021a1ae5",
            "4580833ee80946a68377a1cc07e5b797",
            "57e4a26416b343679796c140fc71c361",
            "4b1ccc97d84c482fa72299cb943014df",
            "eae2be801df3480681858b3055dfa247",
            "5780da4302284cc980d74be84cabdca9",
            "97fe8a180f4146d0bbf1b089e3c540cc",
            "82705c28e0ef47bbba0670ccfd68f6a3",
            "13d6f258286b4008b34539ca1fad1a72",
            "823142c7e21c42c4b3ff8052bba83a23",
            "4d635dd96b9d4459a17bcdb460511d5b",
            "4b4d1dcda6764b83870c13547e4ab3a6",
            "184e62e2f0ec429587b42a7cb9cc5652",
            "56cee1daec7e4e6f8a1b39f2b7c5d30f",
            "f1c7a82c15ea403d8ccc8d5d3ebdcabe",
            "e221cfec56984028b99ec5b6cead7dd2",
            "b4333dbca9244ec098af1eae585c18a4",
            "7f104aee57264b99baa59b7467c94104"
          ]
        },
        "id": "Yh--DQ3Mmupz",
        "outputId": "edbc6fd0-c632-4f40-f891-0933b56e5324"
      },
      "outputs": [],
      "source": [
        "# TODO remove\n",
        "columns = [\n",
        "    \"input_ids\",\n",
        "    \"token_type_ids\",\n",
        "    \"attention_mask\",\n",
        "    \"Openness_to_change\",\n",
        "    \"Self_enhancement\",\n",
        "    \"Conversation\",\n",
        "    \"Self_transcendence\",\n",
        "]"
      ]
    },
    {
      "cell_type": "code",
      "execution_count": 29,
      "metadata": {
        "colab": {
          "base_uri": "https://localhost:8080/"
        },
        "id": "7fDTBVqQmupz",
        "outputId": "4d1679a2-664c-4228-9646-b4b1f5d5577b"
      },
      "outputs": [],
      "source": [
        "### Sanity check\n",
        "# print(train_tokenized_ds[\"Conclusion\"][50])\n",
        "# decoded_text = tokenizer.decode(train_tokenized_ds[\"input_ids\"][50])\n",
        "# print(decoded_text)"
      ]
    },
    {
      "cell_type": "code",
      "execution_count": 30,
      "metadata": {},
      "outputs": [],
      "source": [
        "### TODO here we can put the ROBERTA tokenizations"
      ]
    },
    {
      "cell_type": "markdown",
      "metadata": {
        "id": "a-D3Db5Cmup0"
      },
      "source": [
        "# Task 3: Metrics"
      ]
    },
    {
      "cell_type": "markdown",
      "metadata": {},
      "source": [
        "### Baseline Metric"
      ]
    },
    {
      "cell_type": "code",
      "execution_count": 31,
      "metadata": {},
      "outputs": [],
      "source": [
        "def f1_baseline(prediction, labels):\n",
        "    ### Evaluate F1 overall\n",
        "    f1_overall = f1_score(y_true=test_df[labels], y_pred=prediction, average=\"macro\")\n",
        "\n",
        "    ### Evaluate F1 per category\n",
        "    f1_per_cat = [\n",
        "        f1_score(y_true=test_df[cat], y_pred=prediction[:, i])\n",
        "        for i, cat in enumerate(labels)\n",
        "    ]\n",
        "\n",
        "    return f1_overall, f1_per_cat"
      ]
    },
    {
      "cell_type": "markdown",
      "metadata": {},
      "source": [
        "### Bert Conclusion-Only Model Metric"
      ]
    },
    {
      "cell_type": "code",
      "execution_count": 32,
      "metadata": {
        "id": "ZPcKYfAlmup0"
      },
      "outputs": [],
      "source": [
        "def multi_label_metrics(predictions, labels, threshold=0.5):\n",
        "    # first, apply sigmoid on predictions which are of shape (batch_size, num_labels)\n",
        "    sigmoid = torch.nn.Sigmoid()\n",
        "    probs = sigmoid(torch.Tensor(predictions))\n",
        "    # next, use threshold to turn them into integer predictions\n",
        "    y_pred = np.zeros(probs.shape)\n",
        "    y_pred[np.where(probs >= threshold)] = 1\n",
        "    # finally, compute metrics\n",
        "    y_true = labels\n",
        "    metrics = {\"f1\": f1_score(y_true=y_true, y_pred=y_pred, average=\"macro\")}\n",
        "    return metrics\n",
        "\n",
        "\n",
        "def compute_metrics(prediction):\n",
        "    preds = (\n",
        "        prediction.predictions[0]\n",
        "        if isinstance(prediction.predictions, tuple)\n",
        "        else prediction.predictions\n",
        "    )\n",
        "    result = multi_label_metrics(predictions=preds, labels=prediction.label_ids)\n",
        "    return result"
      ]
    },
    {
      "cell_type": "markdown",
      "metadata": {
        "id": "jVl10aXpmup1"
      },
      "source": [
        "### Bert Conclusion - Premise Model Metric"
      ]
    },
    {
      "cell_type": "code",
      "execution_count": null,
      "metadata": {},
      "outputs": [],
      "source": []
    },
    {
      "cell_type": "markdown",
      "metadata": {
        "id": "hciZ0KMYmup1"
      },
      "source": [
        "### Bert Conclusion - Premise - Stance Model Metric"
      ]
    },
    {
      "cell_type": "code",
      "execution_count": null,
      "metadata": {},
      "outputs": [],
      "source": []
    },
    {
      "cell_type": "markdown",
      "metadata": {},
      "source": [
        "# TASK 4 - Training and Evaluation"
      ]
    },
    {
      "cell_type": "markdown",
      "metadata": {},
      "source": [
        "## Baseline"
      ]
    },
    {
      "cell_type": "code",
      "execution_count": 33,
      "metadata": {},
      "outputs": [],
      "source": [
        "prediction_uniform = baseline_model(\"uniform\", level_3_cat, train_df, columns_to_keep)\n",
        "f1_overall, f1_percat = f1_baseline(prediction_uniform, labels=level_3_cat)"
      ]
    },
    {
      "cell_type": "code",
      "execution_count": 34,
      "metadata": {},
      "outputs": [
        {
          "data": {
            "text/plain": [
              "0.4820122838115666"
            ]
          },
          "execution_count": 34,
          "metadata": {},
          "output_type": "execute_result"
        }
      ],
      "source": [
        "f1_overall  ### TODO do we have printing issues on colab?"
      ]
    },
    {
      "cell_type": "code",
      "execution_count": 35,
      "metadata": {},
      "outputs": [
        {
          "data": {
            "text/plain": [
              "[0.3607342378292099,\n",
              " 0.4246376811594203,\n",
              " 0.5750663129973476,\n",
              " 0.5676109032602886]"
            ]
          },
          "execution_count": 35,
          "metadata": {},
          "output_type": "execute_result"
        }
      ],
      "source": [
        "f1_percat"
      ]
    },
    {
      "cell_type": "code",
      "execution_count": 36,
      "metadata": {},
      "outputs": [],
      "source": [
        "prediction_majority = baseline_model(\n",
        "    \"most_frequent\", level_3_cat, train_df, columns_to_keep\n",
        ")\n",
        "f1_overall, f1_percat = f1_baseline(prediction_uniform, labels=level_3_cat)"
      ]
    },
    {
      "cell_type": "code",
      "execution_count": 37,
      "metadata": {},
      "outputs": [
        {
          "data": {
            "text/plain": [
              "0.4820122838115666"
            ]
          },
          "execution_count": 37,
          "metadata": {},
          "output_type": "execute_result"
        }
      ],
      "source": [
        "f1_overall  ### TODO do we have printing issues on colab?"
      ]
    },
    {
      "cell_type": "code",
      "execution_count": 38,
      "metadata": {},
      "outputs": [
        {
          "data": {
            "text/plain": [
              "[0.3607342378292099,\n",
              " 0.4246376811594203,\n",
              " 0.5750663129973476,\n",
              " 0.5676109032602886]"
            ]
          },
          "execution_count": 38,
          "metadata": {},
          "output_type": "execute_result"
        }
      ],
      "source": [
        "f1_percat"
      ]
    },
    {
      "cell_type": "markdown",
      "metadata": {},
      "source": [
        "## Bert-base models"
      ]
    },
    {
      "cell_type": "code",
      "execution_count": 39,
      "metadata": {},
      "outputs": [],
      "source": [
        "model_card = \"bert-base-uncased\""
      ]
    },
    {
      "cell_type": "markdown",
      "metadata": {},
      "source": [
        "### Bert Conclusion-Only "
      ]
    },
    {
      "cell_type": "code",
      "execution_count": 40,
      "metadata": {},
      "outputs": [
        {
          "name": "stderr",
          "output_type": "stream",
          "text": [
            "Some weights of BertForSequenceClassification were not initialized from the model checkpoint at bert-base-uncased and are newly initialized: ['classifier.bias', 'classifier.weight']\n",
            "You should probably TRAIN this model on a down-stream task to be able to use it for predictions and inference.\n"
          ]
        },
        {
          "data": {
            "application/vnd.jupyter.widget-view+json": {
              "model_id": "f71eed75e17d47f69d36403c47f50a21",
              "version_major": 2,
              "version_minor": 0
            },
            "text/plain": [
              "Map:   0%|          | 0/5393 [00:00<?, ? examples/s]"
            ]
          },
          "metadata": {},
          "output_type": "display_data"
        },
        {
          "data": {
            "application/vnd.jupyter.widget-view+json": {
              "model_id": "54a6e415191148e2b1bb6f75a9105707",
              "version_major": 2,
              "version_minor": 0
            },
            "text/plain": [
              "Map:   0%|          | 0/1896 [00:00<?, ? examples/s]"
            ]
          },
          "metadata": {},
          "output_type": "display_data"
        },
        {
          "data": {
            "application/vnd.jupyter.widget-view+json": {
              "model_id": "21e9b1a3086841779c7c2a116a75cbdc",
              "version_major": 2,
              "version_minor": 0
            },
            "text/plain": [
              "Map:   0%|          | 0/1576 [00:00<?, ? examples/s]"
            ]
          },
          "metadata": {},
          "output_type": "display_data"
        }
      ],
      "source": [
        "model, tokenizer, data_collator = generate_bert_auto_model(\n",
        "    model_card, labels=level_3_cat\n",
        ")\n",
        "\n",
        "tokenized_datasets = {  # TODO: do an external function\n",
        "    split: ds.map(\n",
        "        function=tokenize_conclusion, fn_kwargs={\"tokenizer\": tokenizer}, batched=True\n",
        "    )\n",
        "    for split, ds in datasets.items()\n",
        "}\n",
        "\n",
        "for ds in tokenized_datasets.values():\n",
        "    ds.set_format(type=\"torch\")"
      ]
    },
    {
      "cell_type": "code",
      "execution_count": 41,
      "metadata": {},
      "outputs": [],
      "source": [
        "seeds = [333, 666, 999]"
      ]
    },
    {
      "cell_type": "code",
      "execution_count": 42,
      "metadata": {
        "id": "RIlFvDjbmup0"
      },
      "outputs": [
        {
          "data": {
            "application/vnd.jupyter.widget-view+json": {
              "model_id": "19ec4a921a014120909b885f81708a48",
              "version_major": 2,
              "version_minor": 0
            },
            "text/plain": [
              "  0%|          | 0/675 [00:00<?, ?it/s]"
            ]
          },
          "metadata": {},
          "output_type": "display_data"
        },
        {
          "name": "stderr",
          "output_type": "stream",
          "text": [
            "You're using a BertTokenizerFast tokenizer. Please note that with a fast tokenizer, using the `__call__` method is faster than using a method to encode the text followed by a call to the `pad` method to get a padded encoding.\n"
          ]
        },
        {
          "ename": "KeyboardInterrupt",
          "evalue": "",
          "output_type": "error",
          "traceback": [
            "\u001b[0;31m---------------------------------------------------------------------------\u001b[0m",
            "\u001b[0;31mKeyboardInterrupt\u001b[0m                         Traceback (most recent call last)",
            "\u001b[1;32m/home/leonardo/Projects/NLP_ASSIGNMENT_2/Assignment2/Assignment2.ipynb Cell 60\u001b[0m line \u001b[0;36m2\n\u001b[1;32m      <a href='vscode-notebook-cell:/home/leonardo/Projects/NLP_ASSIGNMENT_2/Assignment2/Assignment2.ipynb#Y105sZmlsZQ%3D%3D?line=2'>3</a>\u001b[0m training_args \u001b[39m=\u001b[39m TrainingArguments(\n\u001b[1;32m      <a href='vscode-notebook-cell:/home/leonardo/Projects/NLP_ASSIGNMENT_2/Assignment2/Assignment2.ipynb#Y105sZmlsZQ%3D%3D?line=3'>4</a>\u001b[0m     output_dir\u001b[39m=\u001b[39m\u001b[39m\"\u001b[39m\u001b[39mModels/BertBaseUncased\u001b[39m\u001b[39m\"\u001b[39m,\n\u001b[1;32m      <a href='vscode-notebook-cell:/home/leonardo/Projects/NLP_ASSIGNMENT_2/Assignment2/Assignment2.ipynb#Y105sZmlsZQ%3D%3D?line=4'>5</a>\u001b[0m     learning_rate\u001b[39m=\u001b[39m\u001b[39m2e-5\u001b[39m,\n\u001b[0;32m   (...)\u001b[0m\n\u001b[1;32m     <a href='vscode-notebook-cell:/home/leonardo/Projects/NLP_ASSIGNMENT_2/Assignment2/Assignment2.ipynb#Y105sZmlsZQ%3D%3D?line=13'>14</a>\u001b[0m     metric_for_best_model\u001b[39m=\u001b[39m\u001b[39m\"\u001b[39m\u001b[39mf1\u001b[39m\u001b[39m\"\u001b[39m,\n\u001b[1;32m     <a href='vscode-notebook-cell:/home/leonardo/Projects/NLP_ASSIGNMENT_2/Assignment2/Assignment2.ipynb#Y105sZmlsZQ%3D%3D?line=14'>15</a>\u001b[0m )\n\u001b[1;32m     <a href='vscode-notebook-cell:/home/leonardo/Projects/NLP_ASSIGNMENT_2/Assignment2/Assignment2.ipynb#Y105sZmlsZQ%3D%3D?line=16'>17</a>\u001b[0m trainer \u001b[39m=\u001b[39m Trainer(\n\u001b[1;32m     <a href='vscode-notebook-cell:/home/leonardo/Projects/NLP_ASSIGNMENT_2/Assignment2/Assignment2.ipynb#Y105sZmlsZQ%3D%3D?line=17'>18</a>\u001b[0m     model\u001b[39m=\u001b[39mmodel,\n\u001b[1;32m     <a href='vscode-notebook-cell:/home/leonardo/Projects/NLP_ASSIGNMENT_2/Assignment2/Assignment2.ipynb#Y105sZmlsZQ%3D%3D?line=18'>19</a>\u001b[0m     args\u001b[39m=\u001b[39mtraining_args,\n\u001b[0;32m   (...)\u001b[0m\n\u001b[1;32m     <a href='vscode-notebook-cell:/home/leonardo/Projects/NLP_ASSIGNMENT_2/Assignment2/Assignment2.ipynb#Y105sZmlsZQ%3D%3D?line=23'>24</a>\u001b[0m     compute_metrics\u001b[39m=\u001b[39mcompute_metrics,\n\u001b[1;32m     <a href='vscode-notebook-cell:/home/leonardo/Projects/NLP_ASSIGNMENT_2/Assignment2/Assignment2.ipynb#Y105sZmlsZQ%3D%3D?line=24'>25</a>\u001b[0m )\n\u001b[0;32m---> <a href='vscode-notebook-cell:/home/leonardo/Projects/NLP_ASSIGNMENT_2/Assignment2/Assignment2.ipynb#Y105sZmlsZQ%3D%3D?line=26'>27</a>\u001b[0m train_hist \u001b[39m=\u001b[39m trainer\u001b[39m.\u001b[39;49mtrain()\n\u001b[1;32m     <a href='vscode-notebook-cell:/home/leonardo/Projects/NLP_ASSIGNMENT_2/Assignment2/Assignment2.ipynb#Y105sZmlsZQ%3D%3D?line=27'>28</a>\u001b[0m eval_hist \u001b[39m=\u001b[39m trainer\u001b[39m.\u001b[39mevaluate()\n",
            "File \u001b[0;32m~/Projects/NLP_ASSIGNMENT_2/Assignment2/venv/lib/python3.8/site-packages/transformers/trainer.py:1555\u001b[0m, in \u001b[0;36mTrainer.train\u001b[0;34m(self, resume_from_checkpoint, trial, ignore_keys_for_eval, **kwargs)\u001b[0m\n\u001b[1;32m   1553\u001b[0m         hf_hub_utils\u001b[39m.\u001b[39menable_progress_bars()\n\u001b[1;32m   1554\u001b[0m \u001b[39melse\u001b[39;00m:\n\u001b[0;32m-> 1555\u001b[0m     \u001b[39mreturn\u001b[39;00m inner_training_loop(\n\u001b[1;32m   1556\u001b[0m         args\u001b[39m=\u001b[39;49margs,\n\u001b[1;32m   1557\u001b[0m         resume_from_checkpoint\u001b[39m=\u001b[39;49mresume_from_checkpoint,\n\u001b[1;32m   1558\u001b[0m         trial\u001b[39m=\u001b[39;49mtrial,\n\u001b[1;32m   1559\u001b[0m         ignore_keys_for_eval\u001b[39m=\u001b[39;49mignore_keys_for_eval,\n\u001b[1;32m   1560\u001b[0m     )\n",
            "File \u001b[0;32m~/Projects/NLP_ASSIGNMENT_2/Assignment2/venv/lib/python3.8/site-packages/transformers/trainer.py:1860\u001b[0m, in \u001b[0;36mTrainer._inner_training_loop\u001b[0;34m(self, batch_size, args, resume_from_checkpoint, trial, ignore_keys_for_eval)\u001b[0m\n\u001b[1;32m   1857\u001b[0m     \u001b[39mself\u001b[39m\u001b[39m.\u001b[39mcontrol \u001b[39m=\u001b[39m \u001b[39mself\u001b[39m\u001b[39m.\u001b[39mcallback_handler\u001b[39m.\u001b[39mon_step_begin(args, \u001b[39mself\u001b[39m\u001b[39m.\u001b[39mstate, \u001b[39mself\u001b[39m\u001b[39m.\u001b[39mcontrol)\n\u001b[1;32m   1859\u001b[0m \u001b[39mwith\u001b[39;00m \u001b[39mself\u001b[39m\u001b[39m.\u001b[39maccelerator\u001b[39m.\u001b[39maccumulate(model):\n\u001b[0;32m-> 1860\u001b[0m     tr_loss_step \u001b[39m=\u001b[39m \u001b[39mself\u001b[39;49m\u001b[39m.\u001b[39;49mtraining_step(model, inputs)\n\u001b[1;32m   1862\u001b[0m \u001b[39mif\u001b[39;00m (\n\u001b[1;32m   1863\u001b[0m     args\u001b[39m.\u001b[39mlogging_nan_inf_filter\n\u001b[1;32m   1864\u001b[0m     \u001b[39mand\u001b[39;00m \u001b[39mnot\u001b[39;00m is_torch_tpu_available()\n\u001b[1;32m   1865\u001b[0m     \u001b[39mand\u001b[39;00m (torch\u001b[39m.\u001b[39misnan(tr_loss_step) \u001b[39mor\u001b[39;00m torch\u001b[39m.\u001b[39misinf(tr_loss_step))\n\u001b[1;32m   1866\u001b[0m ):\n\u001b[1;32m   1867\u001b[0m     \u001b[39m# if loss is nan or inf simply add the average of previous logged losses\u001b[39;00m\n\u001b[1;32m   1868\u001b[0m     tr_loss \u001b[39m+\u001b[39m\u001b[39m=\u001b[39m tr_loss \u001b[39m/\u001b[39m (\u001b[39m1\u001b[39m \u001b[39m+\u001b[39m \u001b[39mself\u001b[39m\u001b[39m.\u001b[39mstate\u001b[39m.\u001b[39mglobal_step \u001b[39m-\u001b[39m \u001b[39mself\u001b[39m\u001b[39m.\u001b[39m_globalstep_last_logged)\n",
            "File \u001b[0;32m~/Projects/NLP_ASSIGNMENT_2/Assignment2/venv/lib/python3.8/site-packages/transformers/trainer.py:2734\u001b[0m, in \u001b[0;36mTrainer.training_step\u001b[0;34m(self, model, inputs)\u001b[0m\n\u001b[1;32m   2732\u001b[0m         scaled_loss\u001b[39m.\u001b[39mbackward()\n\u001b[1;32m   2733\u001b[0m \u001b[39melse\u001b[39;00m:\n\u001b[0;32m-> 2734\u001b[0m     \u001b[39mself\u001b[39;49m\u001b[39m.\u001b[39;49maccelerator\u001b[39m.\u001b[39;49mbackward(loss)\n\u001b[1;32m   2736\u001b[0m \u001b[39mreturn\u001b[39;00m loss\u001b[39m.\u001b[39mdetach() \u001b[39m/\u001b[39m \u001b[39mself\u001b[39m\u001b[39m.\u001b[39margs\u001b[39m.\u001b[39mgradient_accumulation_steps\n",
            "File \u001b[0;32m~/Projects/NLP_ASSIGNMENT_2/Assignment2/venv/lib/python3.8/site-packages/accelerate/accelerator.py:1989\u001b[0m, in \u001b[0;36mAccelerator.backward\u001b[0;34m(self, loss, **kwargs)\u001b[0m\n\u001b[1;32m   1987\u001b[0m     \u001b[39mself\u001b[39m\u001b[39m.\u001b[39mscaler\u001b[39m.\u001b[39mscale(loss)\u001b[39m.\u001b[39mbackward(\u001b[39m*\u001b[39m\u001b[39m*\u001b[39mkwargs)\n\u001b[1;32m   1988\u001b[0m \u001b[39melse\u001b[39;00m:\n\u001b[0;32m-> 1989\u001b[0m     loss\u001b[39m.\u001b[39;49mbackward(\u001b[39m*\u001b[39;49m\u001b[39m*\u001b[39;49mkwargs)\n",
            "File \u001b[0;32m~/Projects/NLP_ASSIGNMENT_2/Assignment2/venv/lib/python3.8/site-packages/torch/_tensor.py:492\u001b[0m, in \u001b[0;36mTensor.backward\u001b[0;34m(self, gradient, retain_graph, create_graph, inputs)\u001b[0m\n\u001b[1;32m    482\u001b[0m \u001b[39mif\u001b[39;00m has_torch_function_unary(\u001b[39mself\u001b[39m):\n\u001b[1;32m    483\u001b[0m     \u001b[39mreturn\u001b[39;00m handle_torch_function(\n\u001b[1;32m    484\u001b[0m         Tensor\u001b[39m.\u001b[39mbackward,\n\u001b[1;32m    485\u001b[0m         (\u001b[39mself\u001b[39m,),\n\u001b[0;32m   (...)\u001b[0m\n\u001b[1;32m    490\u001b[0m         inputs\u001b[39m=\u001b[39minputs,\n\u001b[1;32m    491\u001b[0m     )\n\u001b[0;32m--> 492\u001b[0m torch\u001b[39m.\u001b[39;49mautograd\u001b[39m.\u001b[39;49mbackward(\n\u001b[1;32m    493\u001b[0m     \u001b[39mself\u001b[39;49m, gradient, retain_graph, create_graph, inputs\u001b[39m=\u001b[39;49minputs\n\u001b[1;32m    494\u001b[0m )\n",
            "File \u001b[0;32m~/Projects/NLP_ASSIGNMENT_2/Assignment2/venv/lib/python3.8/site-packages/torch/autograd/__init__.py:251\u001b[0m, in \u001b[0;36mbackward\u001b[0;34m(tensors, grad_tensors, retain_graph, create_graph, grad_variables, inputs)\u001b[0m\n\u001b[1;32m    246\u001b[0m     retain_graph \u001b[39m=\u001b[39m create_graph\n\u001b[1;32m    248\u001b[0m \u001b[39m# The reason we repeat the same comment below is that\u001b[39;00m\n\u001b[1;32m    249\u001b[0m \u001b[39m# some Python versions print out the first line of a multi-line function\u001b[39;00m\n\u001b[1;32m    250\u001b[0m \u001b[39m# calls in the traceback and some print out the last line\u001b[39;00m\n\u001b[0;32m--> 251\u001b[0m Variable\u001b[39m.\u001b[39;49m_execution_engine\u001b[39m.\u001b[39;49mrun_backward(  \u001b[39m# Calls into the C++ engine to run the backward pass\u001b[39;49;00m\n\u001b[1;32m    252\u001b[0m     tensors,\n\u001b[1;32m    253\u001b[0m     grad_tensors_,\n\u001b[1;32m    254\u001b[0m     retain_graph,\n\u001b[1;32m    255\u001b[0m     create_graph,\n\u001b[1;32m    256\u001b[0m     inputs,\n\u001b[1;32m    257\u001b[0m     allow_unreachable\u001b[39m=\u001b[39;49m\u001b[39mTrue\u001b[39;49;00m,\n\u001b[1;32m    258\u001b[0m     accumulate_grad\u001b[39m=\u001b[39;49m\u001b[39mTrue\u001b[39;49;00m,\n\u001b[1;32m    259\u001b[0m )\n",
            "\u001b[0;31mKeyboardInterrupt\u001b[0m: "
          ]
        }
      ],
      "source": [
        "### TODO get data for 3 different random seeds\n",
        "\n",
        "training_args = TrainingArguments(\n",
        "    output_dir=\"Models/BertBaseUncased\",\n",
        "    learning_rate=2e-5,\n",
        "    per_device_train_batch_size=8,\n",
        "    per_device_eval_batch_size=8,\n",
        "    load_best_model_at_end=True,\n",
        "    report_to=\"none\",\n",
        "    save_strategy=\"epoch\",  #'no'\n",
        "    evaluation_strategy=\"epoch\",\n",
        "    num_train_epochs=1,  ### fine tuning\n",
        "    weight_decay=0.01,\n",
        "    metric_for_best_model=\"f1\",\n",
        ")\n",
        "\n",
        "trainer = Trainer(\n",
        "    model=model,\n",
        "    args=training_args,\n",
        "    train_dataset=tokenized_datasets[\"train\"],\n",
        "    eval_dataset=tokenized_datasets[\"validation\"],\n",
        "    tokenizer=tokenizer,\n",
        "    data_collator=data_collator,\n",
        "    compute_metrics=compute_metrics,\n",
        ")\n",
        "\n",
        "train_hist = trainer.train()\n",
        "eval_hist = trainer.evaluate()"
      ]
    },
    {
      "cell_type": "code",
      "execution_count": null,
      "metadata": {},
      "outputs": [],
      "source": [
        "train_hist"
      ]
    },
    {
      "cell_type": "code",
      "execution_count": null,
      "metadata": {},
      "outputs": [],
      "source": [
        "eval_hist"
      ]
    },
    {
      "cell_type": "code",
      "execution_count": null,
      "metadata": {},
      "outputs": [],
      "source": [
        "### EXPERIMENTAL!!!\n",
        "\n",
        "train_hist_l = []\n",
        "eval_hist_l = []\n",
        "for s in seeds:\n",
        "    np.random.seed(s)\n",
        "    if True:\n",
        "        model, tokenizer, data_collator = generate_bert_auto_model(\n",
        "            model_card, labels=level_3_cat\n",
        "        )\n",
        "\n",
        "        tokenized_datasets = {  # TODO: do an external function\n",
        "            split: ds.map(\n",
        "                function=tokenize_conclusion,\n",
        "                fn_kwargs={\"tokenizer\": tokenizer},\n",
        "                batched=True,\n",
        "            )\n",
        "            for split, ds in datasets.items()\n",
        "        }\n",
        "\n",
        "        for ds in tokenized_datasets.values():\n",
        "            ds.set_format(type=\"torch\")\n",
        "\n",
        "        training_args = TrainingArguments(\n",
        "            output_dir=\"Models/BertBaseUncased\",\n",
        "            learning_rate=2e-5,\n",
        "            per_device_train_batch_size=8,\n",
        "            per_device_eval_batch_size=8,\n",
        "            load_best_model_at_end=True,\n",
        "            report_to=\"none\",\n",
        "            save_strategy=\"epoch\",  #'no'\n",
        "            evaluation_strategy=\"epoch\",\n",
        "            num_train_epochs=0.001,  ### TODO bring to 1\n",
        "            weight_decay=0.01,\n",
        "            metric_for_best_model=\"f1\",\n",
        "        )\n",
        "\n",
        "        trainer = Trainer(\n",
        "            model=model,\n",
        "            args=training_args,\n",
        "            train_dataset=tokenized_datasets[\"train\"],\n",
        "            eval_dataset=tokenized_datasets[\"validation\"],\n",
        "            tokenizer=tokenizer,\n",
        "            data_collator=data_collator,\n",
        "            compute_metrics=compute_metrics,\n",
        "        )\n",
        "\n",
        "    train_hist_l.append(trainer.train())\n",
        "    eval_hist_l.append(trainer.evaluate())"
      ]
    },
    {
      "cell_type": "code",
      "execution_count": null,
      "metadata": {},
      "outputs": [],
      "source": [
        "train_hist_l"
      ]
    },
    {
      "cell_type": "code",
      "execution_count": null,
      "metadata": {},
      "outputs": [],
      "source": [
        "eval_hist_l"
      ]
    },
    {
      "cell_type": "markdown",
      "metadata": {},
      "source": [
        "### Bert with Conclusion and Premise"
      ]
    },
    {
      "cell_type": "code",
      "execution_count": null,
      "metadata": {},
      "outputs": [],
      "source": [
        "### TODO setup datasets?"
      ]
    },
    {
      "cell_type": "code",
      "execution_count": 51,
      "metadata": {
        "id": "03FJ-rnUmup0"
      },
      "outputs": [
        {
          "name": "stderr",
          "output_type": "stream",
          "text": [
            "Some weights of BertForSequenceClassification were not initialized from the model checkpoint at bert-base-uncased and are newly initialized: ['classifier.bias', 'classifier.weight']\n",
            "You should probably TRAIN this model on a down-stream task to be able to use it for predictions and inference.\n"
          ]
        },
        {
          "data": {
            "application/vnd.jupyter.widget-view+json": {
              "model_id": "99f61ad6f01c4636900807e753fd009e",
              "version_major": 2,
              "version_minor": 0
            },
            "text/plain": [
              "Map:   0%|          | 0/5393 [00:00<?, ? examples/s]"
            ]
          },
          "metadata": {},
          "output_type": "display_data"
        },
        {
          "data": {
            "application/vnd.jupyter.widget-view+json": {
              "model_id": "b088a984cf72423badbc9ade3dc8970a",
              "version_major": 2,
              "version_minor": 0
            },
            "text/plain": [
              "Map:   0%|          | 0/1896 [00:00<?, ? examples/s]"
            ]
          },
          "metadata": {},
          "output_type": "display_data"
        },
        {
          "data": {
            "application/vnd.jupyter.widget-view+json": {
              "model_id": "70827b32af14499c839a073030256c4a",
              "version_major": 2,
              "version_minor": 0
            },
            "text/plain": [
              "Map:   0%|          | 0/1576 [00:00<?, ? examples/s]"
            ]
          },
          "metadata": {},
          "output_type": "display_data"
        }
      ],
      "source": [
        "model, tokenizer, data_collator = generate_bert_auto_model(\n",
        "    model_card, labels=level_3_cat\n",
        ")\n",
        "\n",
        "tokenized_datasets = {  # TODO: do an external function\n",
        "    split: ds.map(\n",
        "        function=tokenize_conclusion_premise,\n",
        "        fn_kwargs={\"tokenizer\": tokenizer},\n",
        "        batched=True,\n",
        "    )\n",
        "    for split, ds in datasets.items()\n",
        "}\n",
        "\n",
        "for ds in tokenized_datasets.values():\n",
        "    ds.set_format(type=\"torch\")"
      ]
    },
    {
      "cell_type": "code",
      "execution_count": null,
      "metadata": {},
      "outputs": [],
      "source": [
        "training_args = TrainingArguments(\n",
        "    output_dir=\"Models/BertBaseUncased\",\n",
        "    learning_rate=2e-5,\n",
        "    per_device_train_batch_size=8,\n",
        "    per_device_eval_batch_size=8,\n",
        "    load_best_model_at_end=True,\n",
        "    report_to=\"none\",\n",
        "    save_strategy=\"epoch\",  #'no'\n",
        "    evaluation_strategy=\"epoch\",\n",
        "    num_train_epochs=1,  ### fine tuning\n",
        "    weight_decay=0.01,\n",
        "    metric_for_best_model=\"f1\",\n",
        ")\n",
        "\n",
        "trainer = Trainer(\n",
        "    model=model,\n",
        "    args=training_args,\n",
        "    train_dataset=tokenized_datasets[\"train\"],\n",
        "    eval_dataset=tokenized_datasets[\"validation\"],\n",
        "    tokenizer=tokenizer,\n",
        "    data_collator=data_collator,\n",
        "    compute_metrics=compute_metrics,\n",
        ")\n",
        "\n",
        "train_hist = trainer.train()\n",
        "eval_hist = trainer.evaluate()"
      ]
    },
    {
      "cell_type": "markdown",
      "metadata": {},
      "source": [
        "### Bert with Conclusion Premise and Stance"
      ]
    },
    {
      "cell_type": "code",
      "execution_count": null,
      "metadata": {},
      "outputs": [],
      "source": [
        "### TODO setup datasets?"
      ]
    },
    {
      "cell_type": "code",
      "execution_count": 52,
      "metadata": {},
      "outputs": [
        {
          "name": "stderr",
          "output_type": "stream",
          "text": [
            "Some weights of BertForSequenceClassification were not initialized from the model checkpoint at bert-base-uncased and are newly initialized: ['classifier.bias', 'classifier.weight']\n",
            "You should probably TRAIN this model on a down-stream task to be able to use it for predictions and inference.\n"
          ]
        },
        {
          "data": {
            "application/vnd.jupyter.widget-view+json": {
              "model_id": "2b0e9ff2103f46bba4dbc790e3795dbf",
              "version_major": 2,
              "version_minor": 0
            },
            "text/plain": [
              "Map:   0%|          | 0/5393 [00:00<?, ? examples/s]"
            ]
          },
          "metadata": {},
          "output_type": "display_data"
        },
        {
          "ename": "NameError",
          "evalue": "name 'example' is not defined",
          "output_type": "error",
          "traceback": [
            "\u001b[0;31m---------------------------------------------------------------------------\u001b[0m",
            "\u001b[0;31mNameError\u001b[0m                                 Traceback (most recent call last)",
            "\u001b[1;32m/home/leonardo/Projects/NLP_ASSIGNMENT_2/Assignment2/Assignment2.ipynb Cell 72\u001b[0m line \u001b[0;36m5\n\u001b[1;32m      <a href='vscode-notebook-cell:/home/leonardo/Projects/NLP_ASSIGNMENT_2/Assignment2/Assignment2.ipynb#Y114sZmlsZQ%3D%3D?line=0'>1</a>\u001b[0m model, tokenizer, data_collator \u001b[39m=\u001b[39m generate_bert_auto_model(\n\u001b[1;32m      <a href='vscode-notebook-cell:/home/leonardo/Projects/NLP_ASSIGNMENT_2/Assignment2/Assignment2.ipynb#Y114sZmlsZQ%3D%3D?line=1'>2</a>\u001b[0m     model_card, labels\u001b[39m=\u001b[39mlevel_3_cat\n\u001b[1;32m      <a href='vscode-notebook-cell:/home/leonardo/Projects/NLP_ASSIGNMENT_2/Assignment2/Assignment2.ipynb#Y114sZmlsZQ%3D%3D?line=2'>3</a>\u001b[0m )\n\u001b[0;32m----> <a href='vscode-notebook-cell:/home/leonardo/Projects/NLP_ASSIGNMENT_2/Assignment2/Assignment2.ipynb#Y114sZmlsZQ%3D%3D?line=4'>5</a>\u001b[0m tokenized_datasets \u001b[39m=\u001b[39m {  \u001b[39m# TODO: do an external function\u001b[39;00m\n\u001b[1;32m      <a href='vscode-notebook-cell:/home/leonardo/Projects/NLP_ASSIGNMENT_2/Assignment2/Assignment2.ipynb#Y114sZmlsZQ%3D%3D?line=5'>6</a>\u001b[0m     split: ds\u001b[39m.\u001b[39mmap(\n\u001b[1;32m      <a href='vscode-notebook-cell:/home/leonardo/Projects/NLP_ASSIGNMENT_2/Assignment2/Assignment2.ipynb#Y114sZmlsZQ%3D%3D?line=6'>7</a>\u001b[0m         function\u001b[39m=\u001b[39mtokenize_conclusion_premise_stance,\n\u001b[1;32m      <a href='vscode-notebook-cell:/home/leonardo/Projects/NLP_ASSIGNMENT_2/Assignment2/Assignment2.ipynb#Y114sZmlsZQ%3D%3D?line=7'>8</a>\u001b[0m         fn_kwargs\u001b[39m=\u001b[39m{\u001b[39m\"\u001b[39m\u001b[39mtokenizer\u001b[39m\u001b[39m\"\u001b[39m: tokenizer},\n\u001b[1;32m      <a href='vscode-notebook-cell:/home/leonardo/Projects/NLP_ASSIGNMENT_2/Assignment2/Assignment2.ipynb#Y114sZmlsZQ%3D%3D?line=8'>9</a>\u001b[0m         batched\u001b[39m=\u001b[39m\u001b[39mTrue\u001b[39;00m,\n\u001b[1;32m     <a href='vscode-notebook-cell:/home/leonardo/Projects/NLP_ASSIGNMENT_2/Assignment2/Assignment2.ipynb#Y114sZmlsZQ%3D%3D?line=9'>10</a>\u001b[0m     )\n\u001b[1;32m     <a href='vscode-notebook-cell:/home/leonardo/Projects/NLP_ASSIGNMENT_2/Assignment2/Assignment2.ipynb#Y114sZmlsZQ%3D%3D?line=10'>11</a>\u001b[0m     \u001b[39mfor\u001b[39;00m split, ds \u001b[39min\u001b[39;00m datasets\u001b[39m.\u001b[39mitems()\n\u001b[1;32m     <a href='vscode-notebook-cell:/home/leonardo/Projects/NLP_ASSIGNMENT_2/Assignment2/Assignment2.ipynb#Y114sZmlsZQ%3D%3D?line=11'>12</a>\u001b[0m }\n\u001b[1;32m     <a href='vscode-notebook-cell:/home/leonardo/Projects/NLP_ASSIGNMENT_2/Assignment2/Assignment2.ipynb#Y114sZmlsZQ%3D%3D?line=13'>14</a>\u001b[0m \u001b[39mfor\u001b[39;00m ds \u001b[39min\u001b[39;00m tokenized_datasets\u001b[39m.\u001b[39mvalues():\n\u001b[1;32m     <a href='vscode-notebook-cell:/home/leonardo/Projects/NLP_ASSIGNMENT_2/Assignment2/Assignment2.ipynb#Y114sZmlsZQ%3D%3D?line=14'>15</a>\u001b[0m     ds\u001b[39m.\u001b[39mset_format(\u001b[39mtype\u001b[39m\u001b[39m=\u001b[39m\u001b[39m\"\u001b[39m\u001b[39mtorch\u001b[39m\u001b[39m\"\u001b[39m)\n",
            "\u001b[1;32m/home/leonardo/Projects/NLP_ASSIGNMENT_2/Assignment2/Assignment2.ipynb Cell 72\u001b[0m line \u001b[0;36m6\n\u001b[1;32m      <a href='vscode-notebook-cell:/home/leonardo/Projects/NLP_ASSIGNMENT_2/Assignment2/Assignment2.ipynb#Y114sZmlsZQ%3D%3D?line=0'>1</a>\u001b[0m model, tokenizer, data_collator \u001b[39m=\u001b[39m generate_bert_auto_model(\n\u001b[1;32m      <a href='vscode-notebook-cell:/home/leonardo/Projects/NLP_ASSIGNMENT_2/Assignment2/Assignment2.ipynb#Y114sZmlsZQ%3D%3D?line=1'>2</a>\u001b[0m     model_card, labels\u001b[39m=\u001b[39mlevel_3_cat\n\u001b[1;32m      <a href='vscode-notebook-cell:/home/leonardo/Projects/NLP_ASSIGNMENT_2/Assignment2/Assignment2.ipynb#Y114sZmlsZQ%3D%3D?line=2'>3</a>\u001b[0m )\n\u001b[1;32m      <a href='vscode-notebook-cell:/home/leonardo/Projects/NLP_ASSIGNMENT_2/Assignment2/Assignment2.ipynb#Y114sZmlsZQ%3D%3D?line=4'>5</a>\u001b[0m tokenized_datasets \u001b[39m=\u001b[39m {  \u001b[39m# TODO: do an external function\u001b[39;00m\n\u001b[0;32m----> <a href='vscode-notebook-cell:/home/leonardo/Projects/NLP_ASSIGNMENT_2/Assignment2/Assignment2.ipynb#Y114sZmlsZQ%3D%3D?line=5'>6</a>\u001b[0m     split: ds\u001b[39m.\u001b[39;49mmap(\n\u001b[1;32m      <a href='vscode-notebook-cell:/home/leonardo/Projects/NLP_ASSIGNMENT_2/Assignment2/Assignment2.ipynb#Y114sZmlsZQ%3D%3D?line=6'>7</a>\u001b[0m         function\u001b[39m=\u001b[39;49mtokenize_conclusion_premise_stance,\n\u001b[1;32m      <a href='vscode-notebook-cell:/home/leonardo/Projects/NLP_ASSIGNMENT_2/Assignment2/Assignment2.ipynb#Y114sZmlsZQ%3D%3D?line=7'>8</a>\u001b[0m         fn_kwargs\u001b[39m=\u001b[39;49m{\u001b[39m\"\u001b[39;49m\u001b[39mtokenizer\u001b[39;49m\u001b[39m\"\u001b[39;49m: tokenizer},\n\u001b[1;32m      <a href='vscode-notebook-cell:/home/leonardo/Projects/NLP_ASSIGNMENT_2/Assignment2/Assignment2.ipynb#Y114sZmlsZQ%3D%3D?line=8'>9</a>\u001b[0m         batched\u001b[39m=\u001b[39;49m\u001b[39mTrue\u001b[39;49;00m,\n\u001b[1;32m     <a href='vscode-notebook-cell:/home/leonardo/Projects/NLP_ASSIGNMENT_2/Assignment2/Assignment2.ipynb#Y114sZmlsZQ%3D%3D?line=9'>10</a>\u001b[0m     )\n\u001b[1;32m     <a href='vscode-notebook-cell:/home/leonardo/Projects/NLP_ASSIGNMENT_2/Assignment2/Assignment2.ipynb#Y114sZmlsZQ%3D%3D?line=10'>11</a>\u001b[0m     \u001b[39mfor\u001b[39;00m split, ds \u001b[39min\u001b[39;00m datasets\u001b[39m.\u001b[39mitems()\n\u001b[1;32m     <a href='vscode-notebook-cell:/home/leonardo/Projects/NLP_ASSIGNMENT_2/Assignment2/Assignment2.ipynb#Y114sZmlsZQ%3D%3D?line=11'>12</a>\u001b[0m }\n\u001b[1;32m     <a href='vscode-notebook-cell:/home/leonardo/Projects/NLP_ASSIGNMENT_2/Assignment2/Assignment2.ipynb#Y114sZmlsZQ%3D%3D?line=13'>14</a>\u001b[0m \u001b[39mfor\u001b[39;00m ds \u001b[39min\u001b[39;00m tokenized_datasets\u001b[39m.\u001b[39mvalues():\n\u001b[1;32m     <a href='vscode-notebook-cell:/home/leonardo/Projects/NLP_ASSIGNMENT_2/Assignment2/Assignment2.ipynb#Y114sZmlsZQ%3D%3D?line=14'>15</a>\u001b[0m     ds\u001b[39m.\u001b[39mset_format(\u001b[39mtype\u001b[39m\u001b[39m=\u001b[39m\u001b[39m\"\u001b[39m\u001b[39mtorch\u001b[39m\u001b[39m\"\u001b[39m)\n",
            "File \u001b[0;32m~/Projects/NLP_ASSIGNMENT_2/Assignment2/venv/lib/python3.8/site-packages/datasets/arrow_dataset.py:591\u001b[0m, in \u001b[0;36mtransmit_tasks.<locals>.wrapper\u001b[0;34m(*args, **kwargs)\u001b[0m\n\u001b[1;32m    589\u001b[0m     \u001b[39mself\u001b[39m: \u001b[39m\"\u001b[39m\u001b[39mDataset\u001b[39m\u001b[39m\"\u001b[39m \u001b[39m=\u001b[39m kwargs\u001b[39m.\u001b[39mpop(\u001b[39m\"\u001b[39m\u001b[39mself\u001b[39m\u001b[39m\"\u001b[39m)\n\u001b[1;32m    590\u001b[0m \u001b[39m# apply actual function\u001b[39;00m\n\u001b[0;32m--> 591\u001b[0m out: Union[\u001b[39m\"\u001b[39m\u001b[39mDataset\u001b[39m\u001b[39m\"\u001b[39m, \u001b[39m\"\u001b[39m\u001b[39mDatasetDict\u001b[39m\u001b[39m\"\u001b[39m] \u001b[39m=\u001b[39m func(\u001b[39mself\u001b[39;49m, \u001b[39m*\u001b[39;49margs, \u001b[39m*\u001b[39;49m\u001b[39m*\u001b[39;49mkwargs)\n\u001b[1;32m    592\u001b[0m datasets: List[\u001b[39m\"\u001b[39m\u001b[39mDataset\u001b[39m\u001b[39m\"\u001b[39m] \u001b[39m=\u001b[39m \u001b[39mlist\u001b[39m(out\u001b[39m.\u001b[39mvalues()) \u001b[39mif\u001b[39;00m \u001b[39misinstance\u001b[39m(out, \u001b[39mdict\u001b[39m) \u001b[39melse\u001b[39;00m [out]\n\u001b[1;32m    593\u001b[0m \u001b[39mfor\u001b[39;00m dataset \u001b[39min\u001b[39;00m datasets:\n\u001b[1;32m    594\u001b[0m     \u001b[39m# Remove task templates if a column mapping of the template is no longer valid\u001b[39;00m\n",
            "File \u001b[0;32m~/Projects/NLP_ASSIGNMENT_2/Assignment2/venv/lib/python3.8/site-packages/datasets/arrow_dataset.py:556\u001b[0m, in \u001b[0;36mtransmit_format.<locals>.wrapper\u001b[0;34m(*args, **kwargs)\u001b[0m\n\u001b[1;32m    549\u001b[0m self_format \u001b[39m=\u001b[39m {\n\u001b[1;32m    550\u001b[0m     \u001b[39m\"\u001b[39m\u001b[39mtype\u001b[39m\u001b[39m\"\u001b[39m: \u001b[39mself\u001b[39m\u001b[39m.\u001b[39m_format_type,\n\u001b[1;32m    551\u001b[0m     \u001b[39m\"\u001b[39m\u001b[39mformat_kwargs\u001b[39m\u001b[39m\"\u001b[39m: \u001b[39mself\u001b[39m\u001b[39m.\u001b[39m_format_kwargs,\n\u001b[1;32m    552\u001b[0m     \u001b[39m\"\u001b[39m\u001b[39mcolumns\u001b[39m\u001b[39m\"\u001b[39m: \u001b[39mself\u001b[39m\u001b[39m.\u001b[39m_format_columns,\n\u001b[1;32m    553\u001b[0m     \u001b[39m\"\u001b[39m\u001b[39moutput_all_columns\u001b[39m\u001b[39m\"\u001b[39m: \u001b[39mself\u001b[39m\u001b[39m.\u001b[39m_output_all_columns,\n\u001b[1;32m    554\u001b[0m }\n\u001b[1;32m    555\u001b[0m \u001b[39m# apply actual function\u001b[39;00m\n\u001b[0;32m--> 556\u001b[0m out: Union[\u001b[39m\"\u001b[39m\u001b[39mDataset\u001b[39m\u001b[39m\"\u001b[39m, \u001b[39m\"\u001b[39m\u001b[39mDatasetDict\u001b[39m\u001b[39m\"\u001b[39m] \u001b[39m=\u001b[39m func(\u001b[39mself\u001b[39;49m, \u001b[39m*\u001b[39;49margs, \u001b[39m*\u001b[39;49m\u001b[39m*\u001b[39;49mkwargs)\n\u001b[1;32m    557\u001b[0m datasets: List[\u001b[39m\"\u001b[39m\u001b[39mDataset\u001b[39m\u001b[39m\"\u001b[39m] \u001b[39m=\u001b[39m \u001b[39mlist\u001b[39m(out\u001b[39m.\u001b[39mvalues()) \u001b[39mif\u001b[39;00m \u001b[39misinstance\u001b[39m(out, \u001b[39mdict\u001b[39m) \u001b[39melse\u001b[39;00m [out]\n\u001b[1;32m    558\u001b[0m \u001b[39m# re-apply format to the output\u001b[39;00m\n",
            "File \u001b[0;32m~/Projects/NLP_ASSIGNMENT_2/Assignment2/venv/lib/python3.8/site-packages/datasets/arrow_dataset.py:3089\u001b[0m, in \u001b[0;36mDataset.map\u001b[0;34m(self, function, with_indices, with_rank, input_columns, batched, batch_size, drop_last_batch, remove_columns, keep_in_memory, load_from_cache_file, cache_file_name, writer_batch_size, features, disable_nullable, fn_kwargs, num_proc, suffix_template, new_fingerprint, desc)\u001b[0m\n\u001b[1;32m   3082\u001b[0m \u001b[39mif\u001b[39;00m transformed_dataset \u001b[39mis\u001b[39;00m \u001b[39mNone\u001b[39;00m:\n\u001b[1;32m   3083\u001b[0m     \u001b[39mwith\u001b[39;00m logging\u001b[39m.\u001b[39mtqdm(\n\u001b[1;32m   3084\u001b[0m         disable\u001b[39m=\u001b[39m\u001b[39mnot\u001b[39;00m logging\u001b[39m.\u001b[39mis_progress_bar_enabled(),\n\u001b[1;32m   3085\u001b[0m         unit\u001b[39m=\u001b[39m\u001b[39m\"\u001b[39m\u001b[39m examples\u001b[39m\u001b[39m\"\u001b[39m,\n\u001b[1;32m   3086\u001b[0m         total\u001b[39m=\u001b[39mpbar_total,\n\u001b[1;32m   3087\u001b[0m         desc\u001b[39m=\u001b[39mdesc \u001b[39mor\u001b[39;00m \u001b[39m\"\u001b[39m\u001b[39mMap\u001b[39m\u001b[39m\"\u001b[39m,\n\u001b[1;32m   3088\u001b[0m     ) \u001b[39mas\u001b[39;00m pbar:\n\u001b[0;32m-> 3089\u001b[0m         \u001b[39mfor\u001b[39;00m rank, done, content \u001b[39min\u001b[39;00m Dataset\u001b[39m.\u001b[39m_map_single(\u001b[39m*\u001b[39m\u001b[39m*\u001b[39mdataset_kwargs):\n\u001b[1;32m   3090\u001b[0m             \u001b[39mif\u001b[39;00m done:\n\u001b[1;32m   3091\u001b[0m                 shards_done \u001b[39m+\u001b[39m\u001b[39m=\u001b[39m \u001b[39m1\u001b[39m\n",
            "File \u001b[0;32m~/Projects/NLP_ASSIGNMENT_2/Assignment2/venv/lib/python3.8/site-packages/datasets/arrow_dataset.py:3466\u001b[0m, in \u001b[0;36mDataset._map_single\u001b[0;34m(shard, function, with_indices, with_rank, input_columns, batched, batch_size, drop_last_batch, remove_columns, keep_in_memory, cache_file_name, writer_batch_size, features, disable_nullable, fn_kwargs, new_fingerprint, rank, offset)\u001b[0m\n\u001b[1;32m   3462\u001b[0m indices \u001b[39m=\u001b[39m \u001b[39mlist\u001b[39m(\n\u001b[1;32m   3463\u001b[0m     \u001b[39mrange\u001b[39m(\u001b[39m*\u001b[39m(\u001b[39mslice\u001b[39m(i, i \u001b[39m+\u001b[39m batch_size)\u001b[39m.\u001b[39mindices(shard\u001b[39m.\u001b[39mnum_rows)))\n\u001b[1;32m   3464\u001b[0m )  \u001b[39m# Something simpler?\u001b[39;00m\n\u001b[1;32m   3465\u001b[0m \u001b[39mtry\u001b[39;00m:\n\u001b[0;32m-> 3466\u001b[0m     batch \u001b[39m=\u001b[39m apply_function_on_filtered_inputs(\n\u001b[1;32m   3467\u001b[0m         batch,\n\u001b[1;32m   3468\u001b[0m         indices,\n\u001b[1;32m   3469\u001b[0m         check_same_num_examples\u001b[39m=\u001b[39;49m\u001b[39mlen\u001b[39;49m(shard\u001b[39m.\u001b[39;49mlist_indexes()) \u001b[39m>\u001b[39;49m \u001b[39m0\u001b[39;49m,\n\u001b[1;32m   3470\u001b[0m         offset\u001b[39m=\u001b[39;49moffset,\n\u001b[1;32m   3471\u001b[0m     )\n\u001b[1;32m   3472\u001b[0m \u001b[39mexcept\u001b[39;00m NumExamplesMismatchError:\n\u001b[1;32m   3473\u001b[0m     \u001b[39mraise\u001b[39;00m DatasetTransformationNotAllowedError(\n\u001b[1;32m   3474\u001b[0m         \u001b[39m\"\u001b[39m\u001b[39mUsing `.map` in batched mode on a dataset with attached indexes is allowed only if it doesn\u001b[39m\u001b[39m'\u001b[39m\u001b[39mt create or remove existing examples. You can first run `.drop_index() to remove your index and then re-add it.\u001b[39m\u001b[39m\"\u001b[39m\n\u001b[1;32m   3475\u001b[0m     ) \u001b[39mfrom\u001b[39;00m \u001b[39mNone\u001b[39;00m\n",
            "File \u001b[0;32m~/Projects/NLP_ASSIGNMENT_2/Assignment2/venv/lib/python3.8/site-packages/datasets/arrow_dataset.py:3345\u001b[0m, in \u001b[0;36mDataset._map_single.<locals>.apply_function_on_filtered_inputs\u001b[0;34m(pa_inputs, indices, check_same_num_examples, offset)\u001b[0m\n\u001b[1;32m   3343\u001b[0m \u001b[39mif\u001b[39;00m with_rank:\n\u001b[1;32m   3344\u001b[0m     additional_args \u001b[39m+\u001b[39m\u001b[39m=\u001b[39m (rank,)\n\u001b[0;32m-> 3345\u001b[0m processed_inputs \u001b[39m=\u001b[39m function(\u001b[39m*\u001b[39;49mfn_args, \u001b[39m*\u001b[39;49madditional_args, \u001b[39m*\u001b[39;49m\u001b[39m*\u001b[39;49mfn_kwargs)\n\u001b[1;32m   3346\u001b[0m \u001b[39mif\u001b[39;00m \u001b[39misinstance\u001b[39m(processed_inputs, LazyDict):\n\u001b[1;32m   3347\u001b[0m     processed_inputs \u001b[39m=\u001b[39m {\n\u001b[1;32m   3348\u001b[0m         k: v \u001b[39mfor\u001b[39;00m k, v \u001b[39min\u001b[39;00m processed_inputs\u001b[39m.\u001b[39mdata\u001b[39m.\u001b[39mitems() \u001b[39mif\u001b[39;00m k \u001b[39mnot\u001b[39;00m \u001b[39min\u001b[39;00m processed_inputs\u001b[39m.\u001b[39mkeys_to_format\n\u001b[1;32m   3349\u001b[0m     }\n",
            "\u001b[1;32m/home/leonardo/Projects/NLP_ASSIGNMENT_2/Assignment2/Assignment2.ipynb Cell 72\u001b[0m line \u001b[0;36m2\n\u001b[1;32m      <a href='vscode-notebook-cell:/home/leonardo/Projects/NLP_ASSIGNMENT_2/Assignment2/Assignment2.ipynb#Y114sZmlsZQ%3D%3D?line=3'>4</a>\u001b[0m text_tokens \u001b[39m=\u001b[39m tokenizer(\n\u001b[1;32m      <a href='vscode-notebook-cell:/home/leonardo/Projects/NLP_ASSIGNMENT_2/Assignment2/Assignment2.ipynb#Y114sZmlsZQ%3D%3D?line=4'>5</a>\u001b[0m     ds_row[\u001b[39m\"\u001b[39m\u001b[39mConclusion\u001b[39m\u001b[39m\"\u001b[39m],\n\u001b[1;32m      <a href='vscode-notebook-cell:/home/leonardo/Projects/NLP_ASSIGNMENT_2/Assignment2/Assignment2.ipynb#Y114sZmlsZQ%3D%3D?line=5'>6</a>\u001b[0m     ds_row[\u001b[39m\"\u001b[39m\u001b[39mPremise\u001b[39m\u001b[39m\"\u001b[39m],\n\u001b[0;32m   (...)\u001b[0m\n\u001b[1;32m     <a href='vscode-notebook-cell:/home/leonardo/Projects/NLP_ASSIGNMENT_2/Assignment2/Assignment2.ipynb#Y114sZmlsZQ%3D%3D?line=9'>10</a>\u001b[0m     return_tensors\u001b[39m=\u001b[39m\u001b[39m\"\u001b[39m\u001b[39mpt\u001b[39m\u001b[39m\"\u001b[39m,\n\u001b[1;32m     <a href='vscode-notebook-cell:/home/leonardo/Projects/NLP_ASSIGNMENT_2/Assignment2/Assignment2.ipynb#Y114sZmlsZQ%3D%3D?line=10'>11</a>\u001b[0m )\n\u001b[1;32m     <a href='vscode-notebook-cell:/home/leonardo/Projects/NLP_ASSIGNMENT_2/Assignment2/Assignment2.ipynb#Y114sZmlsZQ%3D%3D?line=12'>13</a>\u001b[0m \u001b[39m### Combine text tokens with non-text features\u001b[39;00m\n\u001b[1;32m     <a href='vscode-notebook-cell:/home/leonardo/Projects/NLP_ASSIGNMENT_2/Assignment2/Assignment2.ipynb#Y114sZmlsZQ%3D%3D?line=13'>14</a>\u001b[0m encoded_ds_row \u001b[39m=\u001b[39m {\n\u001b[1;32m     <a href='vscode-notebook-cell:/home/leonardo/Projects/NLP_ASSIGNMENT_2/Assignment2/Assignment2.ipynb#Y114sZmlsZQ%3D%3D?line=14'>15</a>\u001b[0m     \u001b[39m\"\u001b[39m\u001b[39minput_ids\u001b[39m\u001b[39m\"\u001b[39m: text_tokens[\u001b[39m\"\u001b[39m\u001b[39minput_ids\u001b[39m\u001b[39m\"\u001b[39m],\n\u001b[1;32m     <a href='vscode-notebook-cell:/home/leonardo/Projects/NLP_ASSIGNMENT_2/Assignment2/Assignment2.ipynb#Y114sZmlsZQ%3D%3D?line=15'>16</a>\u001b[0m     \u001b[39m\"\u001b[39m\u001b[39mtoken_type_ids\u001b[39m\u001b[39m\"\u001b[39m: text_tokens[\u001b[39m\"\u001b[39m\u001b[39mtoken_type_ids\u001b[39m\u001b[39m\"\u001b[39m],\n\u001b[1;32m     <a href='vscode-notebook-cell:/home/leonardo/Projects/NLP_ASSIGNMENT_2/Assignment2/Assignment2.ipynb#Y114sZmlsZQ%3D%3D?line=16'>17</a>\u001b[0m     \u001b[39m\"\u001b[39m\u001b[39mattention_mask\u001b[39m\u001b[39m\"\u001b[39m: text_tokens[\u001b[39m\"\u001b[39m\u001b[39mattention_mask\u001b[39m\u001b[39m\"\u001b[39m],\n\u001b[1;32m     <a href='vscode-notebook-cell:/home/leonardo/Projects/NLP_ASSIGNMENT_2/Assignment2/Assignment2.ipynb#Y114sZmlsZQ%3D%3D?line=17'>18</a>\u001b[0m     \u001b[39m\"\u001b[39m\u001b[39mStance\u001b[39m\u001b[39m\"\u001b[39m: torch\u001b[39m.\u001b[39mtensor(\n\u001b[1;32m     <a href='vscode-notebook-cell:/home/leonardo/Projects/NLP_ASSIGNMENT_2/Assignment2/Assignment2.ipynb#Y114sZmlsZQ%3D%3D?line=18'>19</a>\u001b[0m         ds_row[\u001b[39m\"\u001b[39m\u001b[39mStance\u001b[39m\u001b[39m\"\u001b[39m], dtype\u001b[39m=\u001b[39mtorch\u001b[39m.\u001b[39mfloat\n\u001b[1;32m     <a href='vscode-notebook-cell:/home/leonardo/Projects/NLP_ASSIGNMENT_2/Assignment2/Assignment2.ipynb#Y114sZmlsZQ%3D%3D?line=19'>20</a>\u001b[0m     ),  \u001b[39m### Assuming 'Stance' is represented as 0 or 1\u001b[39;00m\n\u001b[1;32m     <a href='vscode-notebook-cell:/home/leonardo/Projects/NLP_ASSIGNMENT_2/Assignment2/Assignment2.ipynb#Y114sZmlsZQ%3D%3D?line=20'>21</a>\u001b[0m     \u001b[39m\"\u001b[39m\u001b[39mOpenness_to_change\u001b[39m\u001b[39m\"\u001b[39m: torch\u001b[39m.\u001b[39mtensor(\n\u001b[1;32m     <a href='vscode-notebook-cell:/home/leonardo/Projects/NLP_ASSIGNMENT_2/Assignment2/Assignment2.ipynb#Y114sZmlsZQ%3D%3D?line=21'>22</a>\u001b[0m         ds_row[\u001b[39m\"\u001b[39m\u001b[39mOpenness_to_change\u001b[39m\u001b[39m\"\u001b[39m], dtype\u001b[39m=\u001b[39mtorch\u001b[39m.\u001b[39mfloat\n\u001b[1;32m     <a href='vscode-notebook-cell:/home/leonardo/Projects/NLP_ASSIGNMENT_2/Assignment2/Assignment2.ipynb#Y114sZmlsZQ%3D%3D?line=22'>23</a>\u001b[0m     ),\n\u001b[1;32m     <a href='vscode-notebook-cell:/home/leonardo/Projects/NLP_ASSIGNMENT_2/Assignment2/Assignment2.ipynb#Y114sZmlsZQ%3D%3D?line=23'>24</a>\u001b[0m     \u001b[39m\"\u001b[39m\u001b[39mSelf_enhancement\u001b[39m\u001b[39m\"\u001b[39m: torch\u001b[39m.\u001b[39mtensor(ds_row[\u001b[39m\"\u001b[39m\u001b[39mSelf_enhancement\u001b[39m\u001b[39m\"\u001b[39m], dtype\u001b[39m=\u001b[39mtorch\u001b[39m.\u001b[39mfloat),\n\u001b[0;32m---> <a href='vscode-notebook-cell:/home/leonardo/Projects/NLP_ASSIGNMENT_2/Assignment2/Assignment2.ipynb#Y114sZmlsZQ%3D%3D?line=24'>25</a>\u001b[0m     \u001b[39m\"\u001b[39m\u001b[39mConversation\u001b[39m\u001b[39m\"\u001b[39m: torch\u001b[39m.\u001b[39mtensor(example[\u001b[39m\"\u001b[39m\u001b[39mConversation\u001b[39m\u001b[39m\"\u001b[39m], dtype\u001b[39m=\u001b[39mtorch\u001b[39m.\u001b[39mfloat),\n\u001b[1;32m     <a href='vscode-notebook-cell:/home/leonardo/Projects/NLP_ASSIGNMENT_2/Assignment2/Assignment2.ipynb#Y114sZmlsZQ%3D%3D?line=25'>26</a>\u001b[0m     \u001b[39m\"\u001b[39m\u001b[39mSelf_transcendence\u001b[39m\u001b[39m\"\u001b[39m: torch\u001b[39m.\u001b[39mtensor(\n\u001b[1;32m     <a href='vscode-notebook-cell:/home/leonardo/Projects/NLP_ASSIGNMENT_2/Assignment2/Assignment2.ipynb#Y114sZmlsZQ%3D%3D?line=26'>27</a>\u001b[0m         ds_row[\u001b[39m\"\u001b[39m\u001b[39mSelf_transcendence\u001b[39m\u001b[39m\"\u001b[39m], dtype\u001b[39m=\u001b[39mtorch\u001b[39m.\u001b[39mfloat\n\u001b[1;32m     <a href='vscode-notebook-cell:/home/leonardo/Projects/NLP_ASSIGNMENT_2/Assignment2/Assignment2.ipynb#Y114sZmlsZQ%3D%3D?line=27'>28</a>\u001b[0m     ),\n\u001b[1;32m     <a href='vscode-notebook-cell:/home/leonardo/Projects/NLP_ASSIGNMENT_2/Assignment2/Assignment2.ipynb#Y114sZmlsZQ%3D%3D?line=28'>29</a>\u001b[0m }\n\u001b[1;32m     <a href='vscode-notebook-cell:/home/leonardo/Projects/NLP_ASSIGNMENT_2/Assignment2/Assignment2.ipynb#Y114sZmlsZQ%3D%3D?line=29'>30</a>\u001b[0m encoded_ds_row[\u001b[39m\"\u001b[39m\u001b[39mlabels\u001b[39m\u001b[39m\"\u001b[39m] \u001b[39m=\u001b[39m add_labels(\n\u001b[1;32m     <a href='vscode-notebook-cell:/home/leonardo/Projects/NLP_ASSIGNMENT_2/Assignment2/Assignment2.ipynb#Y114sZmlsZQ%3D%3D?line=30'>31</a>\u001b[0m     ds_row, level_3_cat\n\u001b[1;32m     <a href='vscode-notebook-cell:/home/leonardo/Projects/NLP_ASSIGNMENT_2/Assignment2/Assignment2.ipynb#Y114sZmlsZQ%3D%3D?line=31'>32</a>\u001b[0m )  \u001b[39m# TODO bring back code of function add_labels\u001b[39;00m\n\u001b[1;32m     <a href='vscode-notebook-cell:/home/leonardo/Projects/NLP_ASSIGNMENT_2/Assignment2/Assignment2.ipynb#Y114sZmlsZQ%3D%3D?line=33'>34</a>\u001b[0m \u001b[39mreturn\u001b[39;00m encoded_ds_row\n",
            "\u001b[0;31mNameError\u001b[0m: name 'example' is not defined"
          ]
        }
      ],
      "source": [
        "model, tokenizer, data_collator = generate_bert_auto_model(\n",
        "    model_card, labels=level_3_cat\n",
        ")\n",
        "\n",
        "tokenized_datasets = {  # TODO: do an external function\n",
        "    split: ds.map(\n",
        "        function=tokenize_conclusion_premise_stance,\n",
        "        fn_kwargs={\"tokenizer\": tokenizer},\n",
        "        batched=True,\n",
        "    )\n",
        "    for split, ds in datasets.items()\n",
        "}\n",
        "\n",
        "for ds in tokenized_datasets.values():\n",
        "    ds.set_format(type=\"torch\")"
      ]
    },
    {
      "cell_type": "code",
      "execution_count": null,
      "metadata": {},
      "outputs": [],
      "source": [
        "training_args = TrainingArguments(\n",
        "    output_dir=\"Models/BertBaseUncased\",\n",
        "    learning_rate=2e-5,\n",
        "    per_device_train_batch_size=8,\n",
        "    per_device_eval_batch_size=8,\n",
        "    load_best_model_at_end=True,\n",
        "    report_to=\"none\",\n",
        "    save_strategy=\"epoch\",  #'no'\n",
        "    evaluation_strategy=\"epoch\",\n",
        "    num_train_epochs=1,  ### fine tuning\n",
        "    weight_decay=0.01,\n",
        "    metric_for_best_model=\"f1\",\n",
        ")\n",
        "\n",
        "trainer = Trainer(\n",
        "    model=model,\n",
        "    args=training_args,\n",
        "    train_dataset=tokenized_datasets[\"train\"],\n",
        "    eval_dataset=tokenized_datasets[\"validation\"],\n",
        "    tokenizer=tokenizer,\n",
        "    data_collator=data_collator,\n",
        "    compute_metrics=compute_metrics,\n",
        ")\n",
        "\n",
        "train_hist = trainer.train()\n",
        "eval_hist = trainer.evaluate()"
      ]
    },
    {
      "cell_type": "markdown",
      "metadata": {},
      "source": [
        "## Roberta-base models"
      ]
    },
    {
      "cell_type": "code",
      "execution_count": null,
      "metadata": {},
      "outputs": [],
      "source": [
        "model_card = \"roberta-base-uncased\""
      ]
    },
    {
      "cell_type": "code",
      "execution_count": null,
      "metadata": {},
      "outputs": [],
      "source": [
        "### TODO here we can put the ROBERTA training and evaluation"
      ]
    }
  ],
  "metadata": {
    "accelerator": "GPU",
    "colab": {
      "gpuType": "T4",
      "provenance": []
    },
    "kernelspec": {
      "display_name": "Python 3",
      "name": "python3"
    },
    "language_info": {
      "codemirror_mode": {
        "name": "ipython",
        "version": 3
      },
      "file_extension": ".py",
      "mimetype": "text/x-python",
      "name": "python",
      "nbconvert_exporter": "python",
      "pygments_lexer": "ipython3",
      "version": "3.8.10"
    },
    "widgets": {
      "application/vnd.jupyter.widget-state+json": {
        "0ab65e931fc34d32b11f63fe7e1f714c": {
          "model_module": "@jupyter-widgets/controls",
          "model_module_version": "1.5.0",
          "model_name": "FloatProgressModel",
          "state": {
            "_dom_classes": [],
            "_model_module": "@jupyter-widgets/controls",
            "_model_module_version": "1.5.0",
            "_model_name": "FloatProgressModel",
            "_view_count": null,
            "_view_module": "@jupyter-widgets/controls",
            "_view_module_version": "1.5.0",
            "_view_name": "ProgressView",
            "bar_style": "success",
            "description": "",
            "description_tooltip": null,
            "layout": "IPY_MODEL_4b1ccc97d84c482fa72299cb943014df",
            "max": 1896,
            "min": 0,
            "orientation": "horizontal",
            "style": "IPY_MODEL_eae2be801df3480681858b3055dfa247",
            "value": 1896
          }
        },
        "12f654722d7a4fb58aeb6708804f395b": {
          "model_module": "@jupyter-widgets/base",
          "model_module_version": "1.2.0",
          "model_name": "LayoutModel",
          "state": {
            "_model_module": "@jupyter-widgets/base",
            "_model_module_version": "1.2.0",
            "_model_name": "LayoutModel",
            "_view_count": null,
            "_view_module": "@jupyter-widgets/base",
            "_view_module_version": "1.2.0",
            "_view_name": "LayoutView",
            "align_content": null,
            "align_items": null,
            "align_self": null,
            "border": null,
            "bottom": null,
            "display": null,
            "flex": null,
            "flex_flow": null,
            "grid_area": null,
            "grid_auto_columns": null,
            "grid_auto_flow": null,
            "grid_auto_rows": null,
            "grid_column": null,
            "grid_gap": null,
            "grid_row": null,
            "grid_template_areas": null,
            "grid_template_columns": null,
            "grid_template_rows": null,
            "height": null,
            "justify_content": null,
            "justify_items": null,
            "left": null,
            "margin": null,
            "max_height": null,
            "max_width": null,
            "min_height": null,
            "min_width": null,
            "object_fit": null,
            "object_position": null,
            "order": null,
            "overflow": null,
            "overflow_x": null,
            "overflow_y": null,
            "padding": null,
            "right": null,
            "top": null,
            "visibility": null,
            "width": null
          }
        },
        "13cf588e03b64d8eb324a43f021a1ae5": {
          "model_module": "@jupyter-widgets/base",
          "model_module_version": "1.2.0",
          "model_name": "LayoutModel",
          "state": {
            "_model_module": "@jupyter-widgets/base",
            "_model_module_version": "1.2.0",
            "_model_name": "LayoutModel",
            "_view_count": null,
            "_view_module": "@jupyter-widgets/base",
            "_view_module_version": "1.2.0",
            "_view_name": "LayoutView",
            "align_content": null,
            "align_items": null,
            "align_self": null,
            "border": null,
            "bottom": null,
            "display": null,
            "flex": null,
            "flex_flow": null,
            "grid_area": null,
            "grid_auto_columns": null,
            "grid_auto_flow": null,
            "grid_auto_rows": null,
            "grid_column": null,
            "grid_gap": null,
            "grid_row": null,
            "grid_template_areas": null,
            "grid_template_columns": null,
            "grid_template_rows": null,
            "height": null,
            "justify_content": null,
            "justify_items": null,
            "left": null,
            "margin": null,
            "max_height": null,
            "max_width": null,
            "min_height": null,
            "min_width": null,
            "object_fit": null,
            "object_position": null,
            "order": null,
            "overflow": null,
            "overflow_x": null,
            "overflow_y": null,
            "padding": null,
            "right": null,
            "top": null,
            "visibility": null,
            "width": null
          }
        },
        "13d6f258286b4008b34539ca1fad1a72": {
          "model_module": "@jupyter-widgets/controls",
          "model_module_version": "1.5.0",
          "model_name": "HTMLModel",
          "state": {
            "_dom_classes": [],
            "_model_module": "@jupyter-widgets/controls",
            "_model_module_version": "1.5.0",
            "_model_name": "HTMLModel",
            "_view_count": null,
            "_view_module": "@jupyter-widgets/controls",
            "_view_module_version": "1.5.0",
            "_view_name": "HTMLView",
            "description": "",
            "description_tooltip": null,
            "layout": "IPY_MODEL_184e62e2f0ec429587b42a7cb9cc5652",
            "placeholder": "​",
            "style": "IPY_MODEL_56cee1daec7e4e6f8a1b39f2b7c5d30f",
            "value": "Map: 100%"
          }
        },
        "184e62e2f0ec429587b42a7cb9cc5652": {
          "model_module": "@jupyter-widgets/base",
          "model_module_version": "1.2.0",
          "model_name": "LayoutModel",
          "state": {
            "_model_module": "@jupyter-widgets/base",
            "_model_module_version": "1.2.0",
            "_model_name": "LayoutModel",
            "_view_count": null,
            "_view_module": "@jupyter-widgets/base",
            "_view_module_version": "1.2.0",
            "_view_name": "LayoutView",
            "align_content": null,
            "align_items": null,
            "align_self": null,
            "border": null,
            "bottom": null,
            "display": null,
            "flex": null,
            "flex_flow": null,
            "grid_area": null,
            "grid_auto_columns": null,
            "grid_auto_flow": null,
            "grid_auto_rows": null,
            "grid_column": null,
            "grid_gap": null,
            "grid_row": null,
            "grid_template_areas": null,
            "grid_template_columns": null,
            "grid_template_rows": null,
            "height": null,
            "justify_content": null,
            "justify_items": null,
            "left": null,
            "margin": null,
            "max_height": null,
            "max_width": null,
            "min_height": null,
            "min_width": null,
            "object_fit": null,
            "object_position": null,
            "order": null,
            "overflow": null,
            "overflow_x": null,
            "overflow_y": null,
            "padding": null,
            "right": null,
            "top": null,
            "visibility": null,
            "width": null
          }
        },
        "1bfca35940c84cd8a5960a9798f671a3": {
          "model_module": "@jupyter-widgets/controls",
          "model_module_version": "1.5.0",
          "model_name": "DescriptionStyleModel",
          "state": {
            "_model_module": "@jupyter-widgets/controls",
            "_model_module_version": "1.5.0",
            "_model_name": "DescriptionStyleModel",
            "_view_count": null,
            "_view_module": "@jupyter-widgets/base",
            "_view_module_version": "1.2.0",
            "_view_name": "StyleView",
            "description_width": ""
          }
        },
        "4580833ee80946a68377a1cc07e5b797": {
          "model_module": "@jupyter-widgets/base",
          "model_module_version": "1.2.0",
          "model_name": "LayoutModel",
          "state": {
            "_model_module": "@jupyter-widgets/base",
            "_model_module_version": "1.2.0",
            "_model_name": "LayoutModel",
            "_view_count": null,
            "_view_module": "@jupyter-widgets/base",
            "_view_module_version": "1.2.0",
            "_view_name": "LayoutView",
            "align_content": null,
            "align_items": null,
            "align_self": null,
            "border": null,
            "bottom": null,
            "display": null,
            "flex": null,
            "flex_flow": null,
            "grid_area": null,
            "grid_auto_columns": null,
            "grid_auto_flow": null,
            "grid_auto_rows": null,
            "grid_column": null,
            "grid_gap": null,
            "grid_row": null,
            "grid_template_areas": null,
            "grid_template_columns": null,
            "grid_template_rows": null,
            "height": null,
            "justify_content": null,
            "justify_items": null,
            "left": null,
            "margin": null,
            "max_height": null,
            "max_width": null,
            "min_height": null,
            "min_width": null,
            "object_fit": null,
            "object_position": null,
            "order": null,
            "overflow": null,
            "overflow_x": null,
            "overflow_y": null,
            "padding": null,
            "right": null,
            "top": null,
            "visibility": null,
            "width": null
          }
        },
        "4b1ccc97d84c482fa72299cb943014df": {
          "model_module": "@jupyter-widgets/base",
          "model_module_version": "1.2.0",
          "model_name": "LayoutModel",
          "state": {
            "_model_module": "@jupyter-widgets/base",
            "_model_module_version": "1.2.0",
            "_model_name": "LayoutModel",
            "_view_count": null,
            "_view_module": "@jupyter-widgets/base",
            "_view_module_version": "1.2.0",
            "_view_name": "LayoutView",
            "align_content": null,
            "align_items": null,
            "align_self": null,
            "border": null,
            "bottom": null,
            "display": null,
            "flex": null,
            "flex_flow": null,
            "grid_area": null,
            "grid_auto_columns": null,
            "grid_auto_flow": null,
            "grid_auto_rows": null,
            "grid_column": null,
            "grid_gap": null,
            "grid_row": null,
            "grid_template_areas": null,
            "grid_template_columns": null,
            "grid_template_rows": null,
            "height": null,
            "justify_content": null,
            "justify_items": null,
            "left": null,
            "margin": null,
            "max_height": null,
            "max_width": null,
            "min_height": null,
            "min_width": null,
            "object_fit": null,
            "object_position": null,
            "order": null,
            "overflow": null,
            "overflow_x": null,
            "overflow_y": null,
            "padding": null,
            "right": null,
            "top": null,
            "visibility": null,
            "width": null
          }
        },
        "4b4d1dcda6764b83870c13547e4ab3a6": {
          "model_module": "@jupyter-widgets/base",
          "model_module_version": "1.2.0",
          "model_name": "LayoutModel",
          "state": {
            "_model_module": "@jupyter-widgets/base",
            "_model_module_version": "1.2.0",
            "_model_name": "LayoutModel",
            "_view_count": null,
            "_view_module": "@jupyter-widgets/base",
            "_view_module_version": "1.2.0",
            "_view_name": "LayoutView",
            "align_content": null,
            "align_items": null,
            "align_self": null,
            "border": null,
            "bottom": null,
            "display": null,
            "flex": null,
            "flex_flow": null,
            "grid_area": null,
            "grid_auto_columns": null,
            "grid_auto_flow": null,
            "grid_auto_rows": null,
            "grid_column": null,
            "grid_gap": null,
            "grid_row": null,
            "grid_template_areas": null,
            "grid_template_columns": null,
            "grid_template_rows": null,
            "height": null,
            "justify_content": null,
            "justify_items": null,
            "left": null,
            "margin": null,
            "max_height": null,
            "max_width": null,
            "min_height": null,
            "min_width": null,
            "object_fit": null,
            "object_position": null,
            "order": null,
            "overflow": null,
            "overflow_x": null,
            "overflow_y": null,
            "padding": null,
            "right": null,
            "top": null,
            "visibility": null,
            "width": null
          }
        },
        "4d635dd96b9d4459a17bcdb460511d5b": {
          "model_module": "@jupyter-widgets/controls",
          "model_module_version": "1.5.0",
          "model_name": "HTMLModel",
          "state": {
            "_dom_classes": [],
            "_model_module": "@jupyter-widgets/controls",
            "_model_module_version": "1.5.0",
            "_model_name": "HTMLModel",
            "_view_count": null,
            "_view_module": "@jupyter-widgets/controls",
            "_view_module_version": "1.5.0",
            "_view_name": "HTMLView",
            "description": "",
            "description_tooltip": null,
            "layout": "IPY_MODEL_b4333dbca9244ec098af1eae585c18a4",
            "placeholder": "​",
            "style": "IPY_MODEL_7f104aee57264b99baa59b7467c94104",
            "value": " 1576/1576 [00:01&lt;00:00, 891.80 examples/s]"
          }
        },
        "56cee1daec7e4e6f8a1b39f2b7c5d30f": {
          "model_module": "@jupyter-widgets/controls",
          "model_module_version": "1.5.0",
          "model_name": "DescriptionStyleModel",
          "state": {
            "_model_module": "@jupyter-widgets/controls",
            "_model_module_version": "1.5.0",
            "_model_name": "DescriptionStyleModel",
            "_view_count": null,
            "_view_module": "@jupyter-widgets/base",
            "_view_module_version": "1.2.0",
            "_view_name": "StyleView",
            "description_width": ""
          }
        },
        "5780da4302284cc980d74be84cabdca9": {
          "model_module": "@jupyter-widgets/base",
          "model_module_version": "1.2.0",
          "model_name": "LayoutModel",
          "state": {
            "_model_module": "@jupyter-widgets/base",
            "_model_module_version": "1.2.0",
            "_model_name": "LayoutModel",
            "_view_count": null,
            "_view_module": "@jupyter-widgets/base",
            "_view_module_version": "1.2.0",
            "_view_name": "LayoutView",
            "align_content": null,
            "align_items": null,
            "align_self": null,
            "border": null,
            "bottom": null,
            "display": null,
            "flex": null,
            "flex_flow": null,
            "grid_area": null,
            "grid_auto_columns": null,
            "grid_auto_flow": null,
            "grid_auto_rows": null,
            "grid_column": null,
            "grid_gap": null,
            "grid_row": null,
            "grid_template_areas": null,
            "grid_template_columns": null,
            "grid_template_rows": null,
            "height": null,
            "justify_content": null,
            "justify_items": null,
            "left": null,
            "margin": null,
            "max_height": null,
            "max_width": null,
            "min_height": null,
            "min_width": null,
            "object_fit": null,
            "object_position": null,
            "order": null,
            "overflow": null,
            "overflow_x": null,
            "overflow_y": null,
            "padding": null,
            "right": null,
            "top": null,
            "visibility": null,
            "width": null
          }
        },
        "57e4a26416b343679796c140fc71c361": {
          "model_module": "@jupyter-widgets/controls",
          "model_module_version": "1.5.0",
          "model_name": "DescriptionStyleModel",
          "state": {
            "_model_module": "@jupyter-widgets/controls",
            "_model_module_version": "1.5.0",
            "_model_name": "DescriptionStyleModel",
            "_view_count": null,
            "_view_module": "@jupyter-widgets/base",
            "_view_module_version": "1.2.0",
            "_view_name": "StyleView",
            "description_width": ""
          }
        },
        "70c0b981a52e42e59a521fb85a76b4d7": {
          "model_module": "@jupyter-widgets/controls",
          "model_module_version": "1.5.0",
          "model_name": "HTMLModel",
          "state": {
            "_dom_classes": [],
            "_model_module": "@jupyter-widgets/controls",
            "_model_module_version": "1.5.0",
            "_model_name": "HTMLModel",
            "_view_count": null,
            "_view_module": "@jupyter-widgets/controls",
            "_view_module_version": "1.5.0",
            "_view_name": "HTMLView",
            "description": "",
            "description_tooltip": null,
            "layout": "IPY_MODEL_12f654722d7a4fb58aeb6708804f395b",
            "placeholder": "​",
            "style": "IPY_MODEL_1bfca35940c84cd8a5960a9798f671a3",
            "value": " 5393/5393 [00:04&lt;00:00, 1187.60 examples/s]"
          }
        },
        "74b825ae6cc245ccb7dfdc034c9a9328": {
          "model_module": "@jupyter-widgets/controls",
          "model_module_version": "1.5.0",
          "model_name": "HTMLModel",
          "state": {
            "_dom_classes": [],
            "_model_module": "@jupyter-widgets/controls",
            "_model_module_version": "1.5.0",
            "_model_name": "HTMLModel",
            "_view_count": null,
            "_view_module": "@jupyter-widgets/controls",
            "_view_module_version": "1.5.0",
            "_view_name": "HTMLView",
            "description": "",
            "description_tooltip": null,
            "layout": "IPY_MODEL_5780da4302284cc980d74be84cabdca9",
            "placeholder": "​",
            "style": "IPY_MODEL_97fe8a180f4146d0bbf1b089e3c540cc",
            "value": " 1896/1896 [00:01&lt;00:00, 1103.01 examples/s]"
          }
        },
        "7aa1fcba973842f6859da2f8419eab43": {
          "model_module": "@jupyter-widgets/base",
          "model_module_version": "1.2.0",
          "model_name": "LayoutModel",
          "state": {
            "_model_module": "@jupyter-widgets/base",
            "_model_module_version": "1.2.0",
            "_model_name": "LayoutModel",
            "_view_count": null,
            "_view_module": "@jupyter-widgets/base",
            "_view_module_version": "1.2.0",
            "_view_name": "LayoutView",
            "align_content": null,
            "align_items": null,
            "align_self": null,
            "border": null,
            "bottom": null,
            "display": null,
            "flex": null,
            "flex_flow": null,
            "grid_area": null,
            "grid_auto_columns": null,
            "grid_auto_flow": null,
            "grid_auto_rows": null,
            "grid_column": null,
            "grid_gap": null,
            "grid_row": null,
            "grid_template_areas": null,
            "grid_template_columns": null,
            "grid_template_rows": null,
            "height": null,
            "justify_content": null,
            "justify_items": null,
            "left": null,
            "margin": null,
            "max_height": null,
            "max_width": null,
            "min_height": null,
            "min_width": null,
            "object_fit": null,
            "object_position": null,
            "order": null,
            "overflow": null,
            "overflow_x": null,
            "overflow_y": null,
            "padding": null,
            "right": null,
            "top": null,
            "visibility": null,
            "width": null
          }
        },
        "7f104aee57264b99baa59b7467c94104": {
          "model_module": "@jupyter-widgets/controls",
          "model_module_version": "1.5.0",
          "model_name": "DescriptionStyleModel",
          "state": {
            "_model_module": "@jupyter-widgets/controls",
            "_model_module_version": "1.5.0",
            "_model_name": "DescriptionStyleModel",
            "_view_count": null,
            "_view_module": "@jupyter-widgets/base",
            "_view_module_version": "1.2.0",
            "_view_name": "StyleView",
            "description_width": ""
          }
        },
        "823142c7e21c42c4b3ff8052bba83a23": {
          "model_module": "@jupyter-widgets/controls",
          "model_module_version": "1.5.0",
          "model_name": "FloatProgressModel",
          "state": {
            "_dom_classes": [],
            "_model_module": "@jupyter-widgets/controls",
            "_model_module_version": "1.5.0",
            "_model_name": "FloatProgressModel",
            "_view_count": null,
            "_view_module": "@jupyter-widgets/controls",
            "_view_module_version": "1.5.0",
            "_view_name": "ProgressView",
            "bar_style": "success",
            "description": "",
            "description_tooltip": null,
            "layout": "IPY_MODEL_f1c7a82c15ea403d8ccc8d5d3ebdcabe",
            "max": 1576,
            "min": 0,
            "orientation": "horizontal",
            "style": "IPY_MODEL_e221cfec56984028b99ec5b6cead7dd2",
            "value": 1576
          }
        },
        "82705c28e0ef47bbba0670ccfd68f6a3": {
          "model_module": "@jupyter-widgets/controls",
          "model_module_version": "1.5.0",
          "model_name": "HBoxModel",
          "state": {
            "_dom_classes": [],
            "_model_module": "@jupyter-widgets/controls",
            "_model_module_version": "1.5.0",
            "_model_name": "HBoxModel",
            "_view_count": null,
            "_view_module": "@jupyter-widgets/controls",
            "_view_module_version": "1.5.0",
            "_view_name": "HBoxView",
            "box_style": "",
            "children": [
              "IPY_MODEL_13d6f258286b4008b34539ca1fad1a72",
              "IPY_MODEL_823142c7e21c42c4b3ff8052bba83a23",
              "IPY_MODEL_4d635dd96b9d4459a17bcdb460511d5b"
            ],
            "layout": "IPY_MODEL_4b4d1dcda6764b83870c13547e4ab3a6"
          }
        },
        "8cbab753167d4047ba4fc5dfc95b2353": {
          "model_module": "@jupyter-widgets/controls",
          "model_module_version": "1.5.0",
          "model_name": "HBoxModel",
          "state": {
            "_dom_classes": [],
            "_model_module": "@jupyter-widgets/controls",
            "_model_module_version": "1.5.0",
            "_model_name": "HBoxModel",
            "_view_count": null,
            "_view_module": "@jupyter-widgets/controls",
            "_view_module_version": "1.5.0",
            "_view_name": "HBoxView",
            "box_style": "",
            "children": [
              "IPY_MODEL_cdc97074946146e294d4d619a0b7352c",
              "IPY_MODEL_a46a803e88ad45cd805a49f7237308de",
              "IPY_MODEL_70c0b981a52e42e59a521fb85a76b4d7"
            ],
            "layout": "IPY_MODEL_7aa1fcba973842f6859da2f8419eab43"
          }
        },
        "8f64d1a17e2b4957a569223a0f0c7d9a": {
          "model_module": "@jupyter-widgets/controls",
          "model_module_version": "1.5.0",
          "model_name": "HBoxModel",
          "state": {
            "_dom_classes": [],
            "_model_module": "@jupyter-widgets/controls",
            "_model_module_version": "1.5.0",
            "_model_name": "HBoxModel",
            "_view_count": null,
            "_view_module": "@jupyter-widgets/controls",
            "_view_module_version": "1.5.0",
            "_view_name": "HBoxView",
            "box_style": "",
            "children": [
              "IPY_MODEL_918fe5a17f21473892efa27cb82f8db0",
              "IPY_MODEL_0ab65e931fc34d32b11f63fe7e1f714c",
              "IPY_MODEL_74b825ae6cc245ccb7dfdc034c9a9328"
            ],
            "layout": "IPY_MODEL_13cf588e03b64d8eb324a43f021a1ae5"
          }
        },
        "918fe5a17f21473892efa27cb82f8db0": {
          "model_module": "@jupyter-widgets/controls",
          "model_module_version": "1.5.0",
          "model_name": "HTMLModel",
          "state": {
            "_dom_classes": [],
            "_model_module": "@jupyter-widgets/controls",
            "_model_module_version": "1.5.0",
            "_model_name": "HTMLModel",
            "_view_count": null,
            "_view_module": "@jupyter-widgets/controls",
            "_view_module_version": "1.5.0",
            "_view_name": "HTMLView",
            "description": "",
            "description_tooltip": null,
            "layout": "IPY_MODEL_4580833ee80946a68377a1cc07e5b797",
            "placeholder": "​",
            "style": "IPY_MODEL_57e4a26416b343679796c140fc71c361",
            "value": "Map: 100%"
          }
        },
        "97fe8a180f4146d0bbf1b089e3c540cc": {
          "model_module": "@jupyter-widgets/controls",
          "model_module_version": "1.5.0",
          "model_name": "DescriptionStyleModel",
          "state": {
            "_model_module": "@jupyter-widgets/controls",
            "_model_module_version": "1.5.0",
            "_model_name": "DescriptionStyleModel",
            "_view_count": null,
            "_view_module": "@jupyter-widgets/base",
            "_view_module_version": "1.2.0",
            "_view_name": "StyleView",
            "description_width": ""
          }
        },
        "a46a803e88ad45cd805a49f7237308de": {
          "model_module": "@jupyter-widgets/controls",
          "model_module_version": "1.5.0",
          "model_name": "FloatProgressModel",
          "state": {
            "_dom_classes": [],
            "_model_module": "@jupyter-widgets/controls",
            "_model_module_version": "1.5.0",
            "_model_name": "FloatProgressModel",
            "_view_count": null,
            "_view_module": "@jupyter-widgets/controls",
            "_view_module_version": "1.5.0",
            "_view_name": "ProgressView",
            "bar_style": "success",
            "description": "",
            "description_tooltip": null,
            "layout": "IPY_MODEL_acb69cfe6e2a47959ff0776b2076c895",
            "max": 5393,
            "min": 0,
            "orientation": "horizontal",
            "style": "IPY_MODEL_e8143cedd47c46668ed357ea649c0d86",
            "value": 5393
          }
        },
        "acb69cfe6e2a47959ff0776b2076c895": {
          "model_module": "@jupyter-widgets/base",
          "model_module_version": "1.2.0",
          "model_name": "LayoutModel",
          "state": {
            "_model_module": "@jupyter-widgets/base",
            "_model_module_version": "1.2.0",
            "_model_name": "LayoutModel",
            "_view_count": null,
            "_view_module": "@jupyter-widgets/base",
            "_view_module_version": "1.2.0",
            "_view_name": "LayoutView",
            "align_content": null,
            "align_items": null,
            "align_self": null,
            "border": null,
            "bottom": null,
            "display": null,
            "flex": null,
            "flex_flow": null,
            "grid_area": null,
            "grid_auto_columns": null,
            "grid_auto_flow": null,
            "grid_auto_rows": null,
            "grid_column": null,
            "grid_gap": null,
            "grid_row": null,
            "grid_template_areas": null,
            "grid_template_columns": null,
            "grid_template_rows": null,
            "height": null,
            "justify_content": null,
            "justify_items": null,
            "left": null,
            "margin": null,
            "max_height": null,
            "max_width": null,
            "min_height": null,
            "min_width": null,
            "object_fit": null,
            "object_position": null,
            "order": null,
            "overflow": null,
            "overflow_x": null,
            "overflow_y": null,
            "padding": null,
            "right": null,
            "top": null,
            "visibility": null,
            "width": null
          }
        },
        "b133756d8e4f46d38887045b5cfba5c0": {
          "model_module": "@jupyter-widgets/base",
          "model_module_version": "1.2.0",
          "model_name": "LayoutModel",
          "state": {
            "_model_module": "@jupyter-widgets/base",
            "_model_module_version": "1.2.0",
            "_model_name": "LayoutModel",
            "_view_count": null,
            "_view_module": "@jupyter-widgets/base",
            "_view_module_version": "1.2.0",
            "_view_name": "LayoutView",
            "align_content": null,
            "align_items": null,
            "align_self": null,
            "border": null,
            "bottom": null,
            "display": null,
            "flex": null,
            "flex_flow": null,
            "grid_area": null,
            "grid_auto_columns": null,
            "grid_auto_flow": null,
            "grid_auto_rows": null,
            "grid_column": null,
            "grid_gap": null,
            "grid_row": null,
            "grid_template_areas": null,
            "grid_template_columns": null,
            "grid_template_rows": null,
            "height": null,
            "justify_content": null,
            "justify_items": null,
            "left": null,
            "margin": null,
            "max_height": null,
            "max_width": null,
            "min_height": null,
            "min_width": null,
            "object_fit": null,
            "object_position": null,
            "order": null,
            "overflow": null,
            "overflow_x": null,
            "overflow_y": null,
            "padding": null,
            "right": null,
            "top": null,
            "visibility": null,
            "width": null
          }
        },
        "b4333dbca9244ec098af1eae585c18a4": {
          "model_module": "@jupyter-widgets/base",
          "model_module_version": "1.2.0",
          "model_name": "LayoutModel",
          "state": {
            "_model_module": "@jupyter-widgets/base",
            "_model_module_version": "1.2.0",
            "_model_name": "LayoutModel",
            "_view_count": null,
            "_view_module": "@jupyter-widgets/base",
            "_view_module_version": "1.2.0",
            "_view_name": "LayoutView",
            "align_content": null,
            "align_items": null,
            "align_self": null,
            "border": null,
            "bottom": null,
            "display": null,
            "flex": null,
            "flex_flow": null,
            "grid_area": null,
            "grid_auto_columns": null,
            "grid_auto_flow": null,
            "grid_auto_rows": null,
            "grid_column": null,
            "grid_gap": null,
            "grid_row": null,
            "grid_template_areas": null,
            "grid_template_columns": null,
            "grid_template_rows": null,
            "height": null,
            "justify_content": null,
            "justify_items": null,
            "left": null,
            "margin": null,
            "max_height": null,
            "max_width": null,
            "min_height": null,
            "min_width": null,
            "object_fit": null,
            "object_position": null,
            "order": null,
            "overflow": null,
            "overflow_x": null,
            "overflow_y": null,
            "padding": null,
            "right": null,
            "top": null,
            "visibility": null,
            "width": null
          }
        },
        "b75ffbac3f5d4be5984ea703aa968e72": {
          "model_module": "@jupyter-widgets/controls",
          "model_module_version": "1.5.0",
          "model_name": "DescriptionStyleModel",
          "state": {
            "_model_module": "@jupyter-widgets/controls",
            "_model_module_version": "1.5.0",
            "_model_name": "DescriptionStyleModel",
            "_view_count": null,
            "_view_module": "@jupyter-widgets/base",
            "_view_module_version": "1.2.0",
            "_view_name": "StyleView",
            "description_width": ""
          }
        },
        "cdc97074946146e294d4d619a0b7352c": {
          "model_module": "@jupyter-widgets/controls",
          "model_module_version": "1.5.0",
          "model_name": "HTMLModel",
          "state": {
            "_dom_classes": [],
            "_model_module": "@jupyter-widgets/controls",
            "_model_module_version": "1.5.0",
            "_model_name": "HTMLModel",
            "_view_count": null,
            "_view_module": "@jupyter-widgets/controls",
            "_view_module_version": "1.5.0",
            "_view_name": "HTMLView",
            "description": "",
            "description_tooltip": null,
            "layout": "IPY_MODEL_b133756d8e4f46d38887045b5cfba5c0",
            "placeholder": "​",
            "style": "IPY_MODEL_b75ffbac3f5d4be5984ea703aa968e72",
            "value": "Map: 100%"
          }
        },
        "e221cfec56984028b99ec5b6cead7dd2": {
          "model_module": "@jupyter-widgets/controls",
          "model_module_version": "1.5.0",
          "model_name": "ProgressStyleModel",
          "state": {
            "_model_module": "@jupyter-widgets/controls",
            "_model_module_version": "1.5.0",
            "_model_name": "ProgressStyleModel",
            "_view_count": null,
            "_view_module": "@jupyter-widgets/base",
            "_view_module_version": "1.2.0",
            "_view_name": "StyleView",
            "bar_color": null,
            "description_width": ""
          }
        },
        "e8143cedd47c46668ed357ea649c0d86": {
          "model_module": "@jupyter-widgets/controls",
          "model_module_version": "1.5.0",
          "model_name": "ProgressStyleModel",
          "state": {
            "_model_module": "@jupyter-widgets/controls",
            "_model_module_version": "1.5.0",
            "_model_name": "ProgressStyleModel",
            "_view_count": null,
            "_view_module": "@jupyter-widgets/base",
            "_view_module_version": "1.2.0",
            "_view_name": "StyleView",
            "bar_color": null,
            "description_width": ""
          }
        },
        "eae2be801df3480681858b3055dfa247": {
          "model_module": "@jupyter-widgets/controls",
          "model_module_version": "1.5.0",
          "model_name": "ProgressStyleModel",
          "state": {
            "_model_module": "@jupyter-widgets/controls",
            "_model_module_version": "1.5.0",
            "_model_name": "ProgressStyleModel",
            "_view_count": null,
            "_view_module": "@jupyter-widgets/base",
            "_view_module_version": "1.2.0",
            "_view_name": "StyleView",
            "bar_color": null,
            "description_width": ""
          }
        },
        "f1c7a82c15ea403d8ccc8d5d3ebdcabe": {
          "model_module": "@jupyter-widgets/base",
          "model_module_version": "1.2.0",
          "model_name": "LayoutModel",
          "state": {
            "_model_module": "@jupyter-widgets/base",
            "_model_module_version": "1.2.0",
            "_model_name": "LayoutModel",
            "_view_count": null,
            "_view_module": "@jupyter-widgets/base",
            "_view_module_version": "1.2.0",
            "_view_name": "LayoutView",
            "align_content": null,
            "align_items": null,
            "align_self": null,
            "border": null,
            "bottom": null,
            "display": null,
            "flex": null,
            "flex_flow": null,
            "grid_area": null,
            "grid_auto_columns": null,
            "grid_auto_flow": null,
            "grid_auto_rows": null,
            "grid_column": null,
            "grid_gap": null,
            "grid_row": null,
            "grid_template_areas": null,
            "grid_template_columns": null,
            "grid_template_rows": null,
            "height": null,
            "justify_content": null,
            "justify_items": null,
            "left": null,
            "margin": null,
            "max_height": null,
            "max_width": null,
            "min_height": null,
            "min_width": null,
            "object_fit": null,
            "object_position": null,
            "order": null,
            "overflow": null,
            "overflow_x": null,
            "overflow_y": null,
            "padding": null,
            "right": null,
            "top": null,
            "visibility": null,
            "width": null
          }
        }
      }
    }
  },
  "nbformat": 4,
  "nbformat_minor": 0
}
